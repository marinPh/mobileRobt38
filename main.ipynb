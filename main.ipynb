{
 "cells": [
  {
   "cell_type": "code",
   "execution_count": null,
   "metadata": {},
   "outputs": [
    {
     "ename": "AttributeError",
     "evalue": "'NoneType' object has no attribute 'shape'",
     "output_type": "error",
     "traceback": [
      "\u001b[1;31m---------------------------------------------------------------------------\u001b[0m",
      "\u001b[1;31mAttributeError\u001b[0m                            Traceback (most recent call last)",
      "Cell \u001b[1;32mIn[2], line 9\u001b[0m\n\u001b[0;32m      7\u001b[0m \u001b[38;5;66;03m#FIXME: not right original image\u001b[39;00m\n\u001b[0;32m      8\u001b[0m original_image \u001b[38;5;241m=\u001b[39m cv2\u001b[38;5;241m.\u001b[39mimread(\u001b[38;5;124m'\u001b[39m\u001b[38;5;124mmap.png\u001b[39m\u001b[38;5;124m'\u001b[39m,\u001b[38;5;241m0\u001b[39m)\n\u001b[1;32m----> 9\u001b[0m costmap, block_size, start, goal, display_image\u001b[38;5;241m=\u001b[39m\u001b[43mcp\u001b[49m\u001b[38;5;241;43m.\u001b[39;49m\u001b[43minit\u001b[49m\u001b[43m(\u001b[49m\u001b[43moriginal_image\u001b[49m\u001b[43m)\u001b[49m\n\u001b[0;32m     10\u001b[0m path,costmap \u001b[38;5;241m=\u001b[39m cp\u001b[38;5;241m.\u001b[39mupdate(costmap, start, goal, display_image)\n\u001b[0;32m     11\u001b[0m next_goal \u001b[38;5;241m=\u001b[39m path[\u001b[38;5;241m0\u001b[39m]\n",
      "File \u001b[1;32mc:\\Users\\marin\\Documents\\mobileRobt38\\costmap_path.py:101\u001b[0m, in \u001b[0;36minit\u001b[1;34m(original_image)\u001b[0m\n\u001b[0;32m     98\u001b[0m     \u001b[38;5;28mprint\u001b[39m(\u001b[38;5;124m\"\u001b[39m\u001b[38;5;124mInvalid input! Please enter an integer.\u001b[39m\u001b[38;5;124m\"\u001b[39m)\n\u001b[0;32m     99\u001b[0m     \u001b[38;5;28;01mreturn\u001b[39;00m\n\u001b[1;32m--> 101\u001b[0m costmap, block_size \u001b[38;5;241m=\u001b[39m \u001b[43mcreate_costmap\u001b[49m\u001b[43m(\u001b[49m\u001b[43moriginal_image\u001b[49m\u001b[43m,\u001b[49m\u001b[43m \u001b[49m\u001b[43mgrid_size\u001b[49m\u001b[43m)\u001b[49m\n\u001b[0;32m    103\u001b[0m \u001b[38;5;66;03m# Show the original image for user to click points\u001b[39;00m\n\u001b[0;32m    104\u001b[0m display_image \u001b[38;5;241m=\u001b[39m cv2\u001b[38;5;241m.\u001b[39mcvtColor(original_image, cv2\u001b[38;5;241m.\u001b[39mCOLOR_GRAY2BGR)\n",
      "File \u001b[1;32mc:\\Users\\marin\\Documents\\mobileRobt38\\costmap_path.py:24\u001b[0m, in \u001b[0;36mcreate_costmap\u001b[1;34m(image, grid_size)\u001b[0m\n\u001b[0;32m     23\u001b[0m \u001b[38;5;28;01mdef\u001b[39;00m \u001b[38;5;21mcreate_costmap\u001b[39m(image, grid_size):\n\u001b[1;32m---> 24\u001b[0m     height, width \u001b[38;5;241m=\u001b[39m \u001b[43mimage\u001b[49m\u001b[38;5;241;43m.\u001b[39;49m\u001b[43mshape\u001b[49m\n\u001b[0;32m     25\u001b[0m     block_size \u001b[38;5;241m=\u001b[39m height \u001b[38;5;241m/\u001b[39m\u001b[38;5;241m/\u001b[39m grid_size\n\u001b[0;32m     26\u001b[0m     costmap \u001b[38;5;241m=\u001b[39m np\u001b[38;5;241m.\u001b[39mzeros((grid_size, grid_size), dtype\u001b[38;5;241m=\u001b[39mnp\u001b[38;5;241m.\u001b[39mint8)\n",
      "\u001b[1;31mAttributeError\u001b[0m: 'NoneType' object has no attribute 'shape'"
     ]
    }
   ],
   "source": [
    "import Thymio as th\n",
    "import time\n",
    "import costmap_path as cp\n",
    "import cv2\n",
    "import numpy as np\n",
    "\n",
    "#FIXME: not right original image\n",
    "original_image = cv2.imread('grid.png',0)\n",
    "costmap, block_size, start, goal, display_image =cp.init(original_image)\n",
    "path,costmap = cp.update(costmap, start, goal, display_image,[])\n",
    "next_goal = path[0]\n",
    "current_pos = np.array([0,0,0])\n",
    "current_speed = np.array([0,0,0])\n",
    "camera_position = (0,0,0)\n",
    "z_predicted = np.concatenate([current_pos,current_speed]) #kalman_state\n",
    "sigma_predicted = np.diag([0.1,0.1,0.1,0,0,0])\n",
    "thymio = th.Thymio()\n",
    "await thymio.iniateLock()\n",
    "\n",
    "camera_on = True\n",
    "while True:\n",
    "    next_goal = path[0]\n",
    "    thymio.navigate(current_pos, next_goal)\n",
    "    current_pos = z_predicted[:2] # Is used for the controller\n",
    "\n",
    "    z_filtered, sigma_filtered= thymio.filtering_step(z_k_k_1 = z_predicted, \n",
    "                                    sigma_k_k_1 = sigma_predicted, \n",
    "                                    V_left_measure = thymio.getWheelL(), \n",
    "                                    V_right_measure = thymio.getWheelR(), \n",
    "                                    camera_working=camera_on, \n",
    "                                    x_measured=camera_position[0], \n",
    "                                    y_measured=camera_position[1],\n",
    "                                    theta_measured= camera_position[2])\n",
    "    \n",
    "    z_predicted, sigma_predicted = thymio.prediction_step(z_filtered, sigma_filtered)\n",
    "\n",
    "    obstacle,detected = th.getObstaclePosition()\n",
    "    if detected:\n",
    "        print(\"Obstacle detected\")\n",
    "        #TODO: use the obstacle position to update the costmap\n",
    "        path,costmap = cp.update(costmap, current_pos, goal, display_image,obstacle)\n",
    "        \n",
    "    if thymio.robot_close_waypoint(current_pos[:1], next_goal[0], next_goal[1]):\n",
    "        path.pop(0)\n",
    "        if len(path) == 0:\n",
    "            print(\"Goal reached\")\n",
    "            break\n",
    "        \n",
    "        \n",
    "    \n",
    "    \n",
    "    \n",
    "    \n",
    "    \n",
    "    \n",
    "    \n",
    "    \n",
    " \n",
    "\n",
    "\n",
    "\n",
    "\n",
    "\n"
   ]
  },
  {
   "cell_type": "code",
   "execution_count": null,
   "metadata": {},
   "outputs": [],
   "source": []
  }
 ],
 "metadata": {
  "kernelspec": {
   "display_name": "Python 3",
   "language": "python",
   "name": "python3"
  },
  "language_info": {
   "codemirror_mode": {
    "name": "ipython",
    "version": 3
   },
   "file_extension": ".py",
   "mimetype": "text/x-python",
   "name": "python",
   "nbconvert_exporter": "python",
   "pygments_lexer": "ipython3",
   "version": "3.12.2"
  }
 },
 "nbformat": 4,
 "nbformat_minor": 2
}
