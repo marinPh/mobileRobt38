{
 "cells": [
  {
   "cell_type": "code",
   "execution_count": 1,
   "metadata": {},
   "outputs": [
    {
     "name": "stdout",
     "output_type": "stream",
     "text": [
      "Click two points: Start and Goal.\n",
      "Mouse clicked at: (127, 51)\n",
      "Mouse clicked at: (298, 134)\n",
      "Get thymio\n",
      "Thymio done\n",
      "(1, 2)\n",
      "[1 2 0]\n"
     ]
    },
    {
     "name": "stderr",
     "output_type": "stream",
     "text": [
      "/home/matthieu/Documents/basics of mobile robotics/Projet/mobileRobt38/Thymio.py:292: RuntimeWarning: coroutine 'Thymio.set_var' was never awaited\n",
      "  self.set_var(\"motor.left.target\", left)\n",
      "RuntimeWarning: Enable tracemalloc to get the object allocation traceback\n",
      "/home/matthieu/Documents/basics of mobile robotics/Projet/mobileRobt38/Thymio.py:293: RuntimeWarning: coroutine 'Thymio.set_var' was never awaited\n",
      "  self.set_var(\"motor.right.target\", right)\n",
      "RuntimeWarning: Enable tracemalloc to get the object allocation traceback\n"
     ]
    },
    {
     "ename": "TypeError",
     "evalue": "unsupported operand type(s) for +: 'coroutine' and 'coroutine'",
     "output_type": "error",
     "traceback": [
      "\u001b[0;31m---------------------------------------------------------------------------\u001b[0m",
      "\u001b[0;31mTypeError\u001b[0m                                 Traceback (most recent call last)",
      "\u001b[0;32m/tmp/ipykernel_16461/1892345195.py\u001b[0m in \u001b[0;36m<module>\u001b[0;34m\u001b[0m\n\u001b[1;32m     27\u001b[0m     \u001b[0mcurrent_pos\u001b[0m \u001b[0;34m=\u001b[0m \u001b[0mz_predicted\u001b[0m\u001b[0;34m[\u001b[0m\u001b[0;34m:\u001b[0m\u001b[0;36m2\u001b[0m\u001b[0;34m]\u001b[0m \u001b[0;31m# Is used for the controller\u001b[0m\u001b[0;34m\u001b[0m\u001b[0;34m\u001b[0m\u001b[0m\n\u001b[1;32m     28\u001b[0m \u001b[0;34m\u001b[0m\u001b[0m\n\u001b[0;32m---> 29\u001b[0;31m     z_filtered, sigma_filtered= thymio.filtering_step(z_k_k_1 = z_predicted, \n\u001b[0m\u001b[1;32m     30\u001b[0m                                     \u001b[0msigma_k_k_1\u001b[0m \u001b[0;34m=\u001b[0m \u001b[0msigma_predicted\u001b[0m\u001b[0;34m,\u001b[0m\u001b[0;34m\u001b[0m\u001b[0;34m\u001b[0m\u001b[0m\n\u001b[1;32m     31\u001b[0m                                     \u001b[0mV_left_measure\u001b[0m \u001b[0;34m=\u001b[0m \u001b[0mthymio\u001b[0m\u001b[0;34m.\u001b[0m\u001b[0mgetWheelL\u001b[0m\u001b[0;34m(\u001b[0m\u001b[0;34m)\u001b[0m\u001b[0;34m,\u001b[0m\u001b[0;34m\u001b[0m\u001b[0;34m\u001b[0m\u001b[0m\n",
      "\u001b[0;32m~/Documents/basics of mobile robotics/Projet/mobileRobt38/Thymio.py\u001b[0m in \u001b[0;36mfiltering_step\u001b[0;34m(self, z_k_k_1, sigma_k_k_1, V_left_measure, V_right_measure, camera_working, x_measured, y_measured, theta_measured)\u001b[0m\n\u001b[1;32m    169\u001b[0m         \u001b[0mC_k\u001b[0m \u001b[0;34m=\u001b[0m \u001b[0mself\u001b[0m\u001b[0;34m.\u001b[0m\u001b[0mgrad_g_c\u001b[0m\u001b[0;34m(\u001b[0m\u001b[0mz_k_k_1\u001b[0m\u001b[0;34m)\u001b[0m \u001b[0;32mif\u001b[0m \u001b[0mcamera_working\u001b[0m \u001b[0;32melse\u001b[0m \u001b[0mself\u001b[0m\u001b[0;34m.\u001b[0m\u001b[0mgrad_g_nc\u001b[0m\u001b[0;34m(\u001b[0m\u001b[0mz_k_k_1\u001b[0m\u001b[0;34m)\u001b[0m\u001b[0;34m\u001b[0m\u001b[0;34m\u001b[0m\u001b[0m\n\u001b[1;32m    170\u001b[0m         \u001b[0mV\u001b[0m \u001b[0;34m=\u001b[0m \u001b[0mself\u001b[0m\u001b[0;34m.\u001b[0m\u001b[0mV_c\u001b[0m \u001b[0;32mif\u001b[0m \u001b[0mcamera_working\u001b[0m \u001b[0;32melse\u001b[0m \u001b[0mself\u001b[0m\u001b[0;34m.\u001b[0m\u001b[0mV_nc\u001b[0m\u001b[0;34m\u001b[0m\u001b[0;34m\u001b[0m\u001b[0m\n\u001b[0;32m--> 171\u001b[0;31m         s_k = self.constructing_s(\n\u001b[0m\u001b[1;32m    172\u001b[0m             \u001b[0mV_left_measure\u001b[0m\u001b[0;34m,\u001b[0m\u001b[0;34m\u001b[0m\u001b[0;34m\u001b[0m\u001b[0m\n\u001b[1;32m    173\u001b[0m             \u001b[0mV_right_measure\u001b[0m\u001b[0;34m,\u001b[0m\u001b[0;34m\u001b[0m\u001b[0;34m\u001b[0m\u001b[0m\n",
      "\u001b[0;32m~/Documents/basics of mobile robotics/Projet/mobileRobt38/Thymio.py\u001b[0m in \u001b[0;36mconstructing_s\u001b[0;34m(self, V_left_measure, V_right_measure, camera_working, x_measured, y_measured, theta_measured)\u001b[0m\n\u001b[1;32m    121\u001b[0m         s_nc = np.array(\n\u001b[1;32m    122\u001b[0m             [\n\u001b[0;32m--> 123\u001b[0;31m                 \u001b[0;34m(\u001b[0m\u001b[0mV_left_measure\u001b[0m \u001b[0;34m+\u001b[0m \u001b[0mV_right_measure\u001b[0m\u001b[0;34m)\u001b[0m \u001b[0;34m/\u001b[0m \u001b[0;36m2\u001b[0m\u001b[0;34m,\u001b[0m\u001b[0;34m\u001b[0m\u001b[0;34m\u001b[0m\u001b[0m\n\u001b[0m\u001b[1;32m    124\u001b[0m                 \u001b[0;34m(\u001b[0m\u001b[0mV_left_measure\u001b[0m \u001b[0;34m-\u001b[0m \u001b[0mV_right_measure\u001b[0m\u001b[0;34m)\u001b[0m \u001b[0;34m/\u001b[0m \u001b[0;36m2\u001b[0m\u001b[0;34m,\u001b[0m\u001b[0;34m\u001b[0m\u001b[0;34m\u001b[0m\u001b[0m\n\u001b[1;32m    125\u001b[0m             ]\n",
      "\u001b[0;31mTypeError\u001b[0m: unsupported operand type(s) for +: 'coroutine' and 'coroutine'"
     ]
    }
   ],
   "source": [
    "import Thymio as th\n",
    "import time\n",
    "import costmap_path as cp\n",
    "import cv2\n",
    "import numpy as np\n",
    "\n",
    "#FIXME: not right original image\n",
    "original_image = cv2.imread('grid.png',0)\n",
    "costmap, block_size, start, goal, display_image=cp.init(original_image)\n",
    "path,costmap = cp.update(costmap, block_size,start, goal, display_image,[])\n",
    "next_goal = path[0]\n",
    "current_pos = np.array([start[0],start[1],0])\n",
    "current_speed = np.array([0,0,0])\n",
    "camera_position = (0,0,0)\n",
    "z_predicted = np.concatenate([current_pos,current_speed]) #kalman_state\n",
    "sigma_predicted = np.diag([0.1,0.1,0.1,0,0,0])\n",
    "print(\"Get thymio\")\n",
    "thymio = th.Thymio()\n",
    "print(\"Thymio done\")\n",
    "camera_on = True\n",
    "while True:\n",
    "    next_goal = path[0]\n",
    "    print(next_goal)\n",
    "    time.sleep(1)\n",
    "    print(current_pos)\n",
    "    thymio.navigate(current_pos, next_goal)\n",
    "    current_pos = z_predicted[:2] # Is used for the controller\n",
    "\n",
    "    z_filtered, sigma_filtered= thymio.filtering_step(z_k_k_1 = z_predicted, \n",
    "                                    sigma_k_k_1 = sigma_predicted, \n",
    "                                    V_left_measure = thymio.getWheelL(), \n",
    "                                    V_right_measure = thymio.getWheelR(), \n",
    "                                    camera_working=camera_on, \n",
    "                                    x_measured=camera_position[0], \n",
    "                                    y_measured=camera_position[1],\n",
    "                                    theta_measured= camera_position[2])\n",
    "    \n",
    "    z_predicted, sigma_predicted = thymio.prediction_step(z_filtered, sigma_filtered)\n",
    "\n",
    "    obstacle,detected = th.getObstaclePosition()\n",
    "    if detected:\n",
    "        print(\"Obstacle detected\")\n",
    "        #TODO: use the obstacle position to update the costmap\n",
    "        path,costmap = cp.update(costmap, current_pos, goal, display_image)\n",
    "        \n",
    "    if thymio.robot_close_waypoint(current_pos[:1], next_goal[0], next_goal[1]):\n",
    "        path.pop(0)\n",
    "        if len(path) == 0:\n",
    "            print(\"Goal reached\")\n",
    "            break\n",
    "        \n",
    "        \n",
    "    \n",
    "    \n",
    "    \n",
    "    \n",
    "    \n",
    "    \n",
    "    \n",
    "    \n",
    " \n",
    "\n",
    "\n",
    "\n",
    "\n",
    "\n"
   ]
  },
  {
   "cell_type": "code",
   "execution_count": null,
   "metadata": {},
   "outputs": [],
   "source": [
    "thymio.set_var(\"motor.left.targer\", 0)\n",
    "thymio.set_var(\"motor.right.targer\", 0)"
   ]
  }
 ],
 "metadata": {
  "kernelspec": {
   "display_name": "Python 3",
   "language": "python",
   "name": "python3"
  },
  "language_info": {
   "codemirror_mode": {
    "name": "ipython",
    "version": 3
   },
   "file_extension": ".py",
   "mimetype": "text/x-python",
   "name": "python",
   "nbconvert_exporter": "python",
   "pygments_lexer": "ipython3",
   "version": "3.12.2"
  }
 },
 "nbformat": 4,
 "nbformat_minor": 2
}
