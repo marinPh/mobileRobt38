{
 "cells": [
  {
   "cell_type": "code",
   "execution_count": null,
   "metadata": {},
   "outputs": [
    {
     "ename": "NameError",
     "evalue": "name 'main' is not defined",
     "output_type": "error",
     "traceback": [
      "\u001b[0;31m---------------------------------------------------------------------------\u001b[0m",
      "\u001b[0;31mNameError\u001b[0m                                 Traceback (most recent call last)",
      "\u001b[0;32m/tmp/ipykernel_9917/1805018794.py\u001b[0m in \u001b[0;36m<module>\u001b[0;34m\u001b[0m\n\u001b[1;32m      1\u001b[0m \u001b[0;32mimport\u001b[0m \u001b[0mThymio\u001b[0m \u001b[0;32mas\u001b[0m \u001b[0mth\u001b[0m\u001b[0;34m\u001b[0m\u001b[0;34m\u001b[0m\u001b[0m\n\u001b[1;32m      2\u001b[0m \u001b[0;32mimport\u001b[0m \u001b[0mtime\u001b[0m\u001b[0;34m\u001b[0m\u001b[0;34m\u001b[0m\u001b[0m\n\u001b[0;32m----> 3\u001b[0;31m \u001b[0;32mimport\u001b[0m \u001b[0mcostmap_path\u001b[0m \u001b[0;32mas\u001b[0m \u001b[0mcp\u001b[0m\u001b[0;34m\u001b[0m\u001b[0;34m\u001b[0m\u001b[0m\n\u001b[0m\u001b[1;32m      4\u001b[0m \u001b[0;32mimport\u001b[0m \u001b[0mcv2\u001b[0m\u001b[0;34m\u001b[0m\u001b[0;34m\u001b[0m\u001b[0m\n\u001b[1;32m      5\u001b[0m \u001b[0;32mimport\u001b[0m \u001b[0mnumpy\u001b[0m \u001b[0;32mas\u001b[0m \u001b[0mnp\u001b[0m\u001b[0;34m\u001b[0m\u001b[0;34m\u001b[0m\u001b[0m\n",
      "\u001b[0;32m~/Documents/basics of mobile robotics/Projet/mobileRobt38/costmap_path.py\u001b[0m in \u001b[0;36m<module>\u001b[0;34m\u001b[0m\n\u001b[1;32m    150\u001b[0m \u001b[0;34m\u001b[0m\u001b[0m\n\u001b[1;32m    151\u001b[0m \u001b[0;31m# LAUNCH OF MAIN ============================================================\u001b[0m\u001b[0;34m\u001b[0m\u001b[0;34m\u001b[0m\u001b[0;34m\u001b[0m\u001b[0m\n\u001b[0;32m--> 152\u001b[0;31m \u001b[0mmain\u001b[0m\u001b[0;34m(\u001b[0m\u001b[0;34m)\u001b[0m\u001b[0;34m\u001b[0m\u001b[0;34m\u001b[0m\u001b[0m\n\u001b[0m\u001b[1;32m    153\u001b[0m \u001b[0;34m\u001b[0m\u001b[0m\n\u001b[1;32m    154\u001b[0m \u001b[0;34m\u001b[0m\u001b[0m\n",
      "\u001b[0;31mNameError\u001b[0m: name 'main' is not defined"
     ]
    }
   ],
   "source": [
    "import Thymio as th\n",
    "import time\n",
    "import costmap_path as cp\n",
    "import cv2\n",
    "import numpy as np\n",
    "\n",
    "#FIXME: not right original image\n",
    "original_image = cv2.imread('map.png',0)\n",
    "costmap, block_size, start, goal, display_image=cp.init(original_image)\n",
    "path,costmap = cp.update(costmap, start, goal, display_image)\n",
    "next_goal = path[0]\n",
    "current_pos = np.array([0,0,0])\n",
    "current_speed = np.array([0,0,0])\n",
    "camera_position = (0,0,0)\n",
    "z_predicted = np.concatenate([current_pos,current_speed]) #kalman_state\n",
    "sigma_predicted = np.diag([0.1,0.1,0.1,0,0,0])\n",
    "thymio = th.Thymio()\n",
    "camera_on = True\n",
    "while True:\n",
    "    \n",
    "    #call camera to get image and update \n",
    "    \n",
    "    #call function to get position of thymio from camera\n",
    "    \n",
    "    #call PID controller\n",
    "\n",
    "    current_pos = z_predicted[:2] # Is used for the controller\n",
    "\n",
    "    \n",
    "    #call kallman filter\n",
    "\n",
    "    z_filtered, sigma_filtered= thymio.filtering_step(z_k_k_1 = z_predicted, \n",
    "                                    sigma_k_k_1 = sigma_predicted, \n",
    "                                    V_left_measure = V_left_measured, \n",
    "                                    V_right_measure = V_right_measured, \n",
    "                                    camera_working=camera_on, \n",
    "                                    x_measured=x_observed, \n",
    "                                    y_measured=y_observed,\n",
    "                                    theta_measured= theta_observed)\n",
    "    \n",
    "\n",
    "\n",
    "    #call kalmann prediction to update the sate and get current position in (x,y,theta)\n",
    "\n",
    "    z_predicted, sigma_predicted = thymio.prediction_step(z_filtered, sigma_filtered)\n",
    "\n",
    "   \n",
    "    obstacle,detected = th.getObstaclePosition()\n",
    "    if detected:\n",
    "        print(\"Obstacle detected\")\n",
    "        #TODO: use the obstacle position to update the costmap\n",
    "        path,costmap = cp.update(costmap, current_pos, goal, display_image)\n",
    "        \n",
    "        #FIXME:need to set threshold for proximity to obstacle\n",
    "    if current_pos == next_goal:\n",
    "        path.pop(0)\n",
    "        if len(path) == 0:\n",
    "            print(\"Goal reached\")\n",
    "            break\n",
    "        next_goal = path[0]\n",
    "        \n",
    "    \n",
    "    \n",
    "    \n",
    "    \n",
    "    \n",
    "    \n",
    "    \n",
    "    \n",
    " \n",
    "\n",
    "\n",
    "\n",
    "\n",
    "\n"
   ]
  },
  {
   "cell_type": "code",
   "execution_count": null,
   "metadata": {},
   "outputs": [],
   "source": []
  }
 ],
 "metadata": {
  "kernelspec": {
   "display_name": "Python 3",
   "language": "python",
   "name": "python3"
  },
  "language_info": {
   "codemirror_mode": {
    "name": "ipython",
    "version": 3
   },
   "file_extension": ".py",
   "mimetype": "text/x-python",
   "name": "python",
   "nbconvert_exporter": "python",
   "pygments_lexer": "ipython3",
   "version": "3.8.10"
  }
 },
 "nbformat": 4,
 "nbformat_minor": 2
}
