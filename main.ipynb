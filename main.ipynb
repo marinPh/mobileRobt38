{
 "cells": [
  {
   "cell_type": "code",
   "execution_count": 1,
   "metadata": {},
   "outputs": [],
   "source": [
    "\n",
    "import Thymio as th\n",
    "import time\n",
    "import videopath1 as vp\n",
    "import numpy as np\n",
    "import threading\n",
    "import vision.detect_aruco as da\n",
    "import queue\n",
    "import cv2\n",
    "def draw_path(img, path):\n",
    "    for i in range(len(path)-1):\n",
    "        cv2.line(img, path[i], path[i+1], (0, 255, 0), 2)\n",
    "    return img"
   ]
  },
  {
   "cell_type": "code",
   "execution_count": null,
   "metadata": {},
   "outputs": [
    {
     "name": "stdout",
     "output_type": "stream",
     "text": [
      "[INFO] detecting 'DICT_ARUCO_ORIGINAL' markers...Open thymio\n",
      "\n",
      "Thymio opened\n",
      "first pos queried (83.05301645338209, 673.0769230769231, 0.12062366858010272)\n",
      "The costmap shape is: (8, 18)\n",
      "Click to select the goal point.\n",
      "Mouse clicked at: (1040, 324)\n"
     ]
    },
    {
     "ename": "IndexError",
     "evalue": "only integers, slices (`:`), ellipsis (`...`), numpy.newaxis (`None`) and integer or boolean arrays are valid indices",
     "output_type": "error",
     "traceback": [
      "\u001b[1;31m---------------------------------------------------------------------------\u001b[0m",
      "\u001b[1;31mIndexError\u001b[0m                                Traceback (most recent call last)",
      "Cell \u001b[1;32mIn[2], line 15\u001b[0m\n\u001b[0;32m     13\u001b[0m camera_on \u001b[38;5;241m=\u001b[39m channel_ison\u001b[38;5;241m.\u001b[39mget()\n\u001b[0;32m     14\u001b[0m \u001b[38;5;28mprint\u001b[39m(\u001b[38;5;124m\"\u001b[39m\u001b[38;5;124mfirst pos queried\u001b[39m\u001b[38;5;124m\"\u001b[39m,start)\n\u001b[1;32m---> 15\u001b[0m path_cm, path, costmap, block_height, block_width, start, goal, display_image, cm_per_pixel \u001b[38;5;241m=\u001b[39m\u001b[43mvp\u001b[49m\u001b[38;5;241;43m.\u001b[39;49m\u001b[43minit\u001b[49m\u001b[43m(\u001b[49m\u001b[43moriginal_image\u001b[49m\u001b[43m,\u001b[49m\u001b[43mstart\u001b[49m\u001b[43m)\u001b[49m\n\u001b[0;32m     16\u001b[0m cv2\u001b[38;5;241m.\u001b[39msetMouseCallback(\u001b[38;5;124m\"\u001b[39m\u001b[38;5;124mSelect  Goal\u001b[39m\u001b[38;5;124m\"\u001b[39m, vp\u001b[38;5;241m.\u001b[39mselect_points, original_image)\n\u001b[0;32m     17\u001b[0m cm_p_pixel \u001b[38;5;241m=\u001b[39m \u001b[38;5;241m77\u001b[39m\u001b[38;5;241m/\u001b[39mblock_width\n",
      "File \u001b[1;32mc:\\Users\\neilc\\OneDrive\\Bureau\\Exercises_mobile\\mobileRobt38\\videopath1.py:258\u001b[0m, in \u001b[0;36minit\u001b[1;34m(frame, start)\u001b[0m\n\u001b[0;32m    252\u001b[0m start_grid \u001b[38;5;241m=\u001b[39m (\n\u001b[0;32m    253\u001b[0m     start[\u001b[38;5;241m1\u001b[39m] \u001b[38;5;241m*\u001b[39m height_division \u001b[38;5;241m/\u001b[39m\u001b[38;5;241m/\u001b[39m frame_gray\u001b[38;5;241m.\u001b[39mshape[\u001b[38;5;241m0\u001b[39m],  \u001b[38;5;66;03m# y-coordinate\u001b[39;00m\n\u001b[0;32m    254\u001b[0m     start[\u001b[38;5;241m0\u001b[39m] \u001b[38;5;241m*\u001b[39m width_division \u001b[38;5;241m/\u001b[39m\u001b[38;5;241m/\u001b[39m frame_gray\u001b[38;5;241m.\u001b[39mshape[\u001b[38;5;241m1\u001b[39m],  \u001b[38;5;66;03m# x-coordinate\u001b[39;00m\n\u001b[0;32m    255\u001b[0m )\n\u001b[0;32m    257\u001b[0m \u001b[38;5;66;03m# Compute the shortest path using A*\u001b[39;00m\n\u001b[1;32m--> 258\u001b[0m path \u001b[38;5;241m=\u001b[39m \u001b[43mastar\u001b[49m\u001b[43m(\u001b[49m\u001b[43mcostmap\u001b[49m\u001b[43m,\u001b[49m\u001b[43m \u001b[49m\u001b[43mstart_grid\u001b[49m\u001b[43m,\u001b[49m\u001b[43m \u001b[49m\u001b[43mgoal\u001b[49m\u001b[43m)\u001b[49m\n\u001b[0;32m    260\u001b[0m \u001b[38;5;28;01mif\u001b[39;00m \u001b[38;5;129;01mnot\u001b[39;00m path:\n\u001b[0;32m    261\u001b[0m     \u001b[38;5;28mprint\u001b[39m(\u001b[38;5;124m\"\u001b[39m\u001b[38;5;124mNo path found!\u001b[39m\u001b[38;5;124m\"\u001b[39m)\n",
      "File \u001b[1;32mc:\\Users\\neilc\\OneDrive\\Bureau\\Exercises_mobile\\mobileRobt38\\videopath1.py:109\u001b[0m, in \u001b[0;36mastar\u001b[1;34m(costmap, start, goal)\u001b[0m\n\u001b[0;32m    106\u001b[0m     path\u001b[38;5;241m.\u001b[39mappend(start)\n\u001b[0;32m    107\u001b[0m     \u001b[38;5;28;01mreturn\u001b[39;00m path[::\u001b[38;5;241m-\u001b[39m\u001b[38;5;241m1\u001b[39m]  \u001b[38;5;66;03m# Reverse path\u001b[39;00m\n\u001b[1;32m--> 109\u001b[0m \u001b[43m\u001b[49m\u001b[38;5;28;43;01mfor\u001b[39;49;00m\u001b[43m \u001b[49m\u001b[43mneighbor\u001b[49m\u001b[43m \u001b[49m\u001b[38;5;129;43;01min\u001b[39;49;00m\u001b[43m \u001b[49m\u001b[43mneighbors\u001b[49m\u001b[43m(\u001b[49m\u001b[43mcurrent_pos\u001b[49m\u001b[43m)\u001b[49m\u001b[43m:\u001b[49m\n\u001b[0;32m    110\u001b[0m \u001b[43m    \u001b[49m\u001b[43mtentative_g_cost\u001b[49m\u001b[43m \u001b[49m\u001b[38;5;241;43m=\u001b[39;49m\u001b[43m \u001b[49m\u001b[43mg_costs\u001b[49m\u001b[43m[\u001b[49m\u001b[43mcurrent_pos\u001b[49m\u001b[43m]\u001b[49m\u001b[43m \u001b[49m\u001b[38;5;241;43m+\u001b[39;49m\u001b[43m \u001b[49m\u001b[38;5;241;43m1\u001b[39;49m\n\u001b[0;32m    111\u001b[0m \u001b[43m    \u001b[49m\u001b[38;5;28;43;01mif\u001b[39;49;00m\u001b[43m \u001b[49m\u001b[43mneighbor\u001b[49m\u001b[43m \u001b[49m\u001b[38;5;129;43;01mnot\u001b[39;49;00m\u001b[43m \u001b[49m\u001b[38;5;129;43;01min\u001b[39;49;00m\u001b[43m \u001b[49m\u001b[43mg_costs\u001b[49m\u001b[43m \u001b[49m\u001b[38;5;129;43;01mor\u001b[39;49;00m\u001b[43m \u001b[49m\u001b[43mtentative_g_cost\u001b[49m\u001b[43m \u001b[49m\u001b[38;5;241;43m<\u001b[39;49m\u001b[43m \u001b[49m\u001b[43mg_costs\u001b[49m\u001b[43m[\u001b[49m\u001b[43mneighbor\u001b[49m\u001b[43m]\u001b[49m\u001b[43m:\u001b[49m\n",
      "File \u001b[1;32mc:\\Users\\neilc\\OneDrive\\Bureau\\Exercises_mobile\\mobileRobt38\\videopath1.py:89\u001b[0m, in \u001b[0;36mastar.<locals>.neighbors\u001b[1;34m(node)\u001b[0m\n\u001b[0;32m     87\u001b[0m \u001b[38;5;28;01mfor\u001b[39;00m dx, dy \u001b[38;5;129;01min\u001b[39;00m [(\u001b[38;5;241m-\u001b[39m\u001b[38;5;241m1\u001b[39m, \u001b[38;5;241m0\u001b[39m), (\u001b[38;5;241m1\u001b[39m, \u001b[38;5;241m0\u001b[39m), (\u001b[38;5;241m0\u001b[39m, \u001b[38;5;241m-\u001b[39m\u001b[38;5;241m1\u001b[39m), (\u001b[38;5;241m0\u001b[39m, \u001b[38;5;241m1\u001b[39m)]:\n\u001b[0;32m     88\u001b[0m     nx, ny \u001b[38;5;241m=\u001b[39m x \u001b[38;5;241m+\u001b[39m dx, y \u001b[38;5;241m+\u001b[39m dy\n\u001b[1;32m---> 89\u001b[0m     \u001b[38;5;28;01mif\u001b[39;00m \u001b[38;5;241m0\u001b[39m \u001b[38;5;241m<\u001b[39m\u001b[38;5;241m=\u001b[39m nx \u001b[38;5;241m<\u001b[39m rows \u001b[38;5;129;01mand\u001b[39;00m \u001b[38;5;241m0\u001b[39m \u001b[38;5;241m<\u001b[39m\u001b[38;5;241m=\u001b[39m ny \u001b[38;5;241m<\u001b[39m cols \u001b[38;5;129;01mand\u001b[39;00m \u001b[43mcostmap\u001b[49m\u001b[43m[\u001b[49m\u001b[43mnx\u001b[49m\u001b[43m,\u001b[49m\u001b[43m \u001b[49m\u001b[43mny\u001b[49m\u001b[43m]\u001b[49m \u001b[38;5;241m==\u001b[39m \u001b[38;5;241m0\u001b[39m:\n\u001b[0;32m     90\u001b[0m         \u001b[38;5;28;01myield\u001b[39;00m (nx, ny)\n",
      "\u001b[1;31mIndexError\u001b[0m: only integers, slices (`:`), ellipsis (`...`), numpy.newaxis (`None`) and integer or boolean arrays are valid indices"
     ]
    }
   ],
   "source": [
    "\n",
    "channel = queue.Queue(maxsize=2)\n",
    "aruco_thread = threading.Thread(target=da.main,args=(channel,), daemon=True)\n",
    "aruco_thread.start()\n",
    "print(\"Open thymio\")\n",
    "thymio = th.Thymio()\n",
    "await thymio.initiateLock()\n",
    "print(\"Thymio opened\")\n",
    "query = channel.get()\n",
    "\n",
    "\n",
    "\n",
    "camera_on = query[0]\n",
    "original_image = query[1]\n",
    "display_image = query[2]\n",
    "start = query[3]\n",
    "cv2.imshow(\"mainframe\", display_image)\n",
    "cv2.waitKey(1)\n",
    "\n",
    "while not camera_on:\n",
    "    query = channel.get()\n",
    "    camera_on = query[0]\n",
    "    original_image = query[1]\n",
    "    display_image = query[2]\n",
    "    start = query[3]\n",
    "    cv2.imshow(\"mainframe\", display_image)\n",
    "    cv2.waitKey(1)\n",
    "    print(\"waiting for camera\", end=\"\\r\")\n",
    "\n",
    "print(\"first pos queried\",start)\n",
    "path_cm, path, costmap, block_height, block_width, _, goal, _, cm_per_pixel =vp.init(original_image,start)\n",
    "cv2.setMouseCallback(\"Select  Goal\", vp.select_points, original_image)\n",
    "cm_p_pixel = 77/block_width\n",
    "#path = vp.update(costmap,block_height,block_width,start,vp.points[0],original_image,cm_p_pixel,[])\n",
    "next_goal = path[0]\n",
    "current_pos = np.array([start[0],start[1],start[2]])\n",
    "current_speed = np.array([0,0,0])\n",
    "camera_position = start\n",
    "z_predicted = np.concatenate([current_pos,current_speed]) #kalman_state\n",
    "sigma_predicted = np.diag([0.1,0.1,0.1,0,0,0])\n",
    "\n",
    "\n",
    "\n",
    "vars_towait = ['prox.horizontal','motor.right.speed','motor.left.speed','motor.right.target','motor.right.target']\n",
    "vars_thread = threading.Thread(target=thymio.wait, args=(vars_towait,))\n",
    "vars_thread.start()\n",
    "time.sleep(1)\n",
    "\n",
    "while True:\n",
    "    query = channel.get()\n",
    "    camera_on = query[0]\n",
    "    #original_image = query[1]\n",
    "    display_image = query[2]\n",
    "    start = query[3]\n",
    "    \n",
    "    draw_path(display_image, path_cm)\n",
    "    cv2.imshow(\"going there\", display_image)\n",
    "    cv2.waitKey(1)\n",
    "    print(path, end=\"\\r\")\n",
    "    next_goal = path[0]\n",
    "    print(f'Next goal : {next_goal}')\n",
    "    print(f'Current position : {current_pos}')\n",
    "    thymio.navigate(current_pos, next_goal)\n",
    "    current_pos = z_predicted[:3] # Is used for the controller\n",
    "    speedright = thymio.getSpeedR()\n",
    "    speedleft = thymio.getSpeedL()\n",
    "    \n",
    "    z_filtered, sigma_filtered= thymio.filtering_step(z_k_k_1 = z_predicted, \n",
    "                                    sigma_k_k_1 = sigma_predicted, \n",
    "                                    V_left_measure =speedleft, \n",
    "                                    V_right_measure = speedright, \n",
    "                                    camera_working=camera_on, \n",
    "                                    x_measured=camera_position[0], \n",
    "                                    y_measured=camera_position[1],\n",
    "                                    theta_measured= camera_position[2])\n",
    "    \n",
    "    z_predicted, sigma_predicted = thymio.prediction_step(z_filtered, sigma_filtered)\n",
    "\n",
    "    obstacle,detected = thymio.getObstaclePosition()\n",
    "    if detected:\n",
    "        print(\"Obstacle detected\")\n",
    "        #TODO: use the obstacle position to update the costmap\n",
    "        original_image = query[1]\n",
    "        path,costmap = vp.update(costmap,block_height,block_width,current_pos,vp.points[0],original_image,cm_p_pixel,obstacle)\n",
    "        \n",
    "    if thymio.robot_close_waypoint(current_pos[:2], next_goal[0], next_goal[1]):\n",
    "        path.pop(0)\n",
    "        if len(path) == 0:\n",
    "            print(\"Goal reached\")\n",
    "            thymio.set_multiple_variables({\"motor.left.target\":[0],\"motor.right.target\":[0]})\n",
    "            vars_thread.join()\n",
    "            thymio.stop()\n",
    "            aruco_thread.join()\n",
    "            break\n",
    "        \n",
    "        "
   ]
  },
  {
   "cell_type": "code",
   "execution_count": 2,
   "metadata": {},
   "outputs": [
    {
     "name": "stdout",
     "output_type": "stream",
     "text": [
      "4.6.0\n"
     ]
    }
   ],
   "source": [
    "import cv2\n",
    "print(cv2.__version__)"
   ]
  },
  {
   "cell_type": "code",
   "execution_count": null,
   "metadata": {},
   "outputs": [],
   "source": []
  }
 ],
 "metadata": {
  "kernelspec": {
   "display_name": "Python 3",
   "language": "python",
   "name": "python3"
  },
  "language_info": {
   "codemirror_mode": {
    "name": "ipython",
    "version": 3
   },
   "file_extension": ".py",
   "mimetype": "text/x-python",
   "name": "python",
   "nbconvert_exporter": "python",
   "pygments_lexer": "ipython3",
   "version": "3.12.2"
  }
 },
 "nbformat": 4,
 "nbformat_minor": 2
}
