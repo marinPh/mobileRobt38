{
 "cells": [
  {
   "cell_type": "code",
   "execution_count": 1,
   "metadata": {},
   "outputs": [],
   "source": [
    "\n",
    "import Thymio as th\n",
    "import time\n",
    "import videopath1 as vp\n",
    "import numpy as np\n",
    "import threading\n",
    "import vision.detect_aruco as da\n",
    "import queue\n",
    "import cv2\n",
    "def draw_path(img, path):\n",
    "    for i in range(len(path)-1):\n",
    "        cv2.line(img, path[i], path[i+1], (0, 255, 0), 2)\n",
    "    return img"
   ]
  },
  {
   "cell_type": "code",
   "execution_count": 2,
   "metadata": {},
   "outputs": [
    {
     "name": "stdout",
     "output_type": "stream",
     "text": [
      "[INFO] detecting 'DICT_ARUCO_ORIGINAL' markers...Open thymio\n",
      "\n",
      "Thymio opened\n",
      "first pos queried (86.8, 670.8809135399674, 0.09347678115858947)\n",
      "The costmap shape is: (8, 18)\n",
      "Binary image saved as 'binary_image.png'.\n",
      "Click to select the goal point.\n",
      "Goal point selected at: (1049, 538)\n",
      "[(7.0, 1.0), (6, 1), (5, 1), (5, 2), (5, 3), (5, 4), (5, 5), (5, 6), (5, 7), (5, 8), (5, 9), (5, 10), (5, 11), (5, 12), (5, 13), (5, 14)]\n",
      "Next goal : (7.0, 1.0)5, 1), (5, 2), (5, 3), (5, 4), (5, 5), (5, 6), (5, 7), (5, 8), (5, 9), (5, 10), (5, 11), (5, 12), (5, 13), (5, 14)]\n",
      "Current position : [8.68000000e+01 6.70880914e+02 9.34767812e-02]\n",
      "{'motor.left.target': [2], 'motor.right.target': [-2]}\n"
     ]
    },
    {
     "ename": "TypeError",
     "evalue": "'VarPrefix' object is not subscriptable",
     "output_type": "error",
     "traceback": [
      "\u001b[1;31m---------------------------------------------------------------------------\u001b[0m",
      "\u001b[1;31mTypeError\u001b[0m                                 Traceback (most recent call last)",
      "Cell \u001b[1;32mIn[2], line 65\u001b[0m\n\u001b[0;32m     63\u001b[0m thymio\u001b[38;5;241m.\u001b[39mnavigate(current_pos, next_goal)\n\u001b[0;32m     64\u001b[0m current_pos \u001b[38;5;241m=\u001b[39m z_predicted[:\u001b[38;5;241m3\u001b[39m] \u001b[38;5;66;03m# Is used for the controller\u001b[39;00m\n\u001b[1;32m---> 65\u001b[0m it_vars \u001b[38;5;241m=\u001b[39m \u001b[43mthymio\u001b[49m\u001b[38;5;241;43m.\u001b[39;49m\u001b[43mget_multiple_variables\u001b[49m\u001b[43m(\u001b[49m\u001b[43m[\u001b[49m\u001b[38;5;124;43m\"\u001b[39;49m\u001b[38;5;124;43mmotor.left.speed\u001b[39;49m\u001b[38;5;124;43m\"\u001b[39;49m\u001b[43m,\u001b[49m\u001b[38;5;124;43m\"\u001b[39;49m\u001b[38;5;124;43mmotor.right.speed\u001b[39;49m\u001b[38;5;124;43m\"\u001b[39;49m\u001b[43m]\u001b[49m\u001b[43m)\u001b[49m\n\u001b[0;32m     67\u001b[0m z_filtered, sigma_filtered\u001b[38;5;241m=\u001b[39m thymio\u001b[38;5;241m.\u001b[39mfiltering_step(z_k_k_1 \u001b[38;5;241m=\u001b[39m z_predicted, \n\u001b[0;32m     68\u001b[0m                                 sigma_k_k_1 \u001b[38;5;241m=\u001b[39m sigma_predicted, \n\u001b[0;32m     69\u001b[0m                                 V_left_measure \u001b[38;5;241m=\u001b[39mit_vars[\u001b[38;5;124m\"\u001b[39m\u001b[38;5;124mmotor.left.speed\u001b[39m\u001b[38;5;124m\"\u001b[39m]\u001b[38;5;241m*\u001b[39mthymio\u001b[38;5;241m.\u001b[39mspeedConversion, \n\u001b[1;32m   (...)\u001b[0m\n\u001b[0;32m     73\u001b[0m                                 y_measured\u001b[38;5;241m=\u001b[39mcamera_position[\u001b[38;5;241m1\u001b[39m],\n\u001b[0;32m     74\u001b[0m                                 theta_measured\u001b[38;5;241m=\u001b[39m camera_position[\u001b[38;5;241m2\u001b[39m])\n\u001b[0;32m     76\u001b[0m z_predicted, sigma_predicted \u001b[38;5;241m=\u001b[39m thymio\u001b[38;5;241m.\u001b[39mprediction_step(z_filtered, sigma_filtered)\n",
      "File \u001b[1;32mc:\\Users\\neilc\\OneDrive\\Bureau\\Exercises_mobile\\mobileRobt38\\Thymio.py:257\u001b[0m, in \u001b[0;36mThymio.get_multiple_variables\u001b[1;34m(self, variables)\u001b[0m\n\u001b[0;32m    255\u001b[0m \u001b[38;5;28;01mdef\u001b[39;00m \u001b[38;5;21mget_multiple_variables\u001b[39m(\u001b[38;5;28mself\u001b[39m, variables: \u001b[38;5;28mlist\u001b[39m) \u001b[38;5;241m-\u001b[39m\u001b[38;5;241m>\u001b[39m \u001b[38;5;28mdict\u001b[39m:\n\u001b[0;32m    256\u001b[0m     \u001b[38;5;28mself\u001b[39m\u001b[38;5;241m.\u001b[39mwait_for_variables(variables)\n\u001b[1;32m--> 257\u001b[0m     \u001b[38;5;28;01mreturn\u001b[39;00m {variable: \u001b[38;5;28;43mself\u001b[39;49m\u001b[38;5;241;43m.\u001b[39;49m\u001b[43mnode\u001b[49m\u001b[38;5;241;43m.\u001b[39;49m\u001b[43mv\u001b[49m\u001b[43m[\u001b[49m\u001b[43mvariable\u001b[49m\u001b[43m]\u001b[49m \u001b[38;5;28;01mfor\u001b[39;00m variable \u001b[38;5;129;01min\u001b[39;00m variables}\n",
      "\u001b[1;31mTypeError\u001b[0m: 'VarPrefix' object is not subscriptable"
     ]
    },
    {
     "ename": "",
     "evalue": "",
     "output_type": "error",
     "traceback": [
      "\u001b[1;31mThe Kernel crashed while executing code in the current cell or a previous cell. \n",
      "\u001b[1;31mPlease review the code in the cell(s) to identify a possible cause of the failure. \n",
      "\u001b[1;31mClick <a href='https://aka.ms/vscodeJupyterKernelCrash'>here</a> for more info. \n",
      "\u001b[1;31mView Jupyter <a href='command:jupyter.viewOutput'>log</a> for further details."
     ]
    }
   ],
   "source": [
    "\n",
    "channel = queue.Queue(maxsize=2)\n",
    "aruco_thread = threading.Thread(target=da.main,args=(channel,), daemon=True)\n",
    "aruco_thread.start()\n",
    "print(\"Open thymio\")\n",
    "thymio = th.Thymio()\n",
    "await thymio.initiateLock()\n",
    "print(\"Thymio opened\")\n",
    "query = channel.get()\n",
    "\n",
    "\n",
    "\n",
    "camera_on = query[0]\n",
    "original_image = query[1]\n",
    "display_image = query[2]\n",
    "start = query[3]\n",
    "cv2.imshow(\"mainframe\", display_image)\n",
    "cv2.waitKey(1)\n",
    "\n",
    "while not camera_on:\n",
    "    query = channel.get()\n",
    "    camera_on = query[0]\n",
    "    original_image = query[1]\n",
    "    display_image = query[2]\n",
    "    start = query[3]\n",
    "    cv2.imshow(\"mainframe\", display_image)\n",
    "    cv2.waitKey(1)\n",
    "    print(\"waiting for camera\", end=\"\\r\")\n",
    "\n",
    "print(\"first pos queried\",start)\n",
    "path_cm, path, costmap, block_height, block_width, _, goal, _, cm_per_pixel =vp.init(original_image,start)\n",
    "cv2.imshow(\"Select Goal\", original_image)\n",
    "cv2.setMouseCallback(\"Select Goal\", vp.select_points, original_image)\n",
    "cm_p_pixel = 77/block_width\n",
    "#path = vp.update(costmap,block_height,block_width,start,vp.points[0],original_image,cm_p_pixel,[])\n",
    "next_goal = path[0]\n",
    "current_pos = np.array([start[0],start[1],start[2]])\n",
    "current_speed = np.array([0,0,0])\n",
    "camera_position = start\n",
    "z_predicted = np.concatenate([current_pos,current_speed]) #kalman_state\n",
    "sigma_predicted = np.diag([0.1,0.1,0.1,0,0,0])\n",
    "\n",
    "\n",
    "\n",
    "vars_towait = ['prox.horizontal','motor.right.speed','motor.left.speed','motor.right.target','motor.right.target']\n",
    "vars_thread = threading.Thread(target=thymio.wait_for_variables, args=(vars_towait,))\n",
    "vars_thread.start()\n",
    "time.sleep(1)\n",
    "\n",
    "while True:\n",
    "    query = channel.get()\n",
    "    camera_on = query[0]\n",
    "    #original_image = query[1]\n",
    "    display_image = query[2]\n",
    "    start = query[3]\n",
    "    \n",
    "    #draw_path(display_image, path_cm)\n",
    "    cv2.imshow(\"going there\", display_image)\n",
    "    cv2.waitKey(1)\n",
    "    print(path, end=\"\\r\")\n",
    "    next_goal = path[0]\n",
    "    print(f'Next goal : {next_goal}')\n",
    "    print(f'Current position : {current_pos}')\n",
    "    thymio.navigate(current_pos, next_goal)\n",
    "    current_pos = z_predicted[:3] # Is used for the controller\n",
    "    speedright = thymio.getSpeedR()\n",
    "    speedleft = thymio.getSpeedL()\n",
    "    \n",
    "    z_filtered, sigma_filtered= thymio.filtering_step(z_k_k_1 = z_predicted, \n",
    "                                    sigma_k_k_1 = sigma_predicted, \n",
    "                                    V_left_measure =speedleft, \n",
    "                                    V_right_measure = speedright, \n",
    "                                    camera_working=camera_on, \n",
    "                                    x_measured=camera_position[0], \n",
    "                                    y_measured=camera_position[1],\n",
    "                                    theta_measured= camera_position[2])\n",
    "    \n",
    "    z_predicted, sigma_predicted = thymio.prediction_step(z_filtered, sigma_filtered)\n",
    "\n",
    "    obstacle,detected = thymio.getObstaclePosition()\n",
    "    if detected:\n",
    "        print(\"Obstacle detected\")\n",
    "        #TODO: use the obstacle position to update the costmap\n",
    "        original_image = query[1]\n",
    "        path,costmap = vp.update(costmap,block_height,block_width,current_pos,vp.points[0],original_image,cm_p_pixel,obstacle)\n",
    "        \n",
    "    if thymio.robot_close_waypoint(current_pos[:2], next_goal[0], next_goal[1]):\n",
    "        path.pop(0)\n",
    "        if len(path) == 0:\n",
    "            print(\"Goal reached\")\n",
    "            thymio.set_multiple_variables({\"motor.left.target\":[0],\"motor.right.target\":[0]})\n",
    "            vars_thread.join()\n",
    "            thymio.stop()\n",
    "            aruco_thread.join()\n",
    "            break\n",
    "        \n",
    "        "
   ]
  },
  {
   "cell_type": "code",
   "execution_count": 2,
   "metadata": {},
   "outputs": [
    {
     "name": "stdout",
     "output_type": "stream",
     "text": [
      "4.6.0\n"
     ]
    }
   ],
   "source": [
    "import cv2\n",
    "print(cv2.__version__)"
   ]
  },
  {
   "cell_type": "code",
   "execution_count": null,
   "metadata": {},
   "outputs": [],
   "source": []
  }
 ],
 "metadata": {
  "kernelspec": {
   "display_name": "Python 3",
   "language": "python",
   "name": "python3"
  },
  "language_info": {
   "codemirror_mode": {
    "name": "ipython",
    "version": 3
   },
   "file_extension": ".py",
   "mimetype": "text/x-python",
   "name": "python",
   "nbconvert_exporter": "python",
   "pygments_lexer": "ipython3",
   "version": "3.12.2"
  }
 },
 "nbformat": 4,
 "nbformat_minor": 2
}
