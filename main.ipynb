{
 "cells": [
  {
   "cell_type": "code",
   "execution_count": 1,
   "metadata": {},
   "outputs": [
    {
     "name": "stdout",
     "output_type": "stream",
     "text": [
      "Click two points: Start and Goal.\n",
      "Mouse clicked at: (100, 87)\n",
      "Mouse clicked at: (218, 179)\n",
      "Open thymio\n",
      "Thymio opened\n",
      "Next goal : (2, 2)\n",
      "Current position : [2 2 0]\n",
      "<class 'float'>\n",
      "Next goal : (3, 2)\n",
      "Current position : [2 2 0]\n",
      "<class 'float'>\n",
      "Next goal : (3, 3)\n",
      "Current position : [1.81818182 1.81818182 0.        ]\n",
      "<class 'float'>\n",
      "Next goal : (3, 4)\n",
      "Current position : [ 1.16847826  0.86956522 -0.03804348]\n",
      "<class 'float'>\n",
      "Next goal : (4, 4)\n",
      "Current position : [1.36277585 0.31133962 0.93108314]\n",
      "<class 'float'>\n",
      "Goal reached\n"
     ]
    }
   ],
   "source": [
    "import Thymio as th\n",
    "import time\n",
    "import costmap_path as cp\n",
    "import cv2\n",
    "import numpy as np\n",
    "\n",
    "#FIXME: not right original image\n",
    "original_image = cv2.imread('grid.png',0)\n",
    "costmap, block_size, start, goal, display_image=cp.init(original_image)\n",
    "path,costmap = cp.update(costmap, block_size,start, goal, display_image,[])\n",
    "next_goal = path[0]\n",
    "current_pos = np.array([start[0],start[1],0])\n",
    "current_speed = np.array([0,0,0])\n",
    "camera_position = (0,0,0)\n",
    "z_predicted = np.concatenate([current_pos,current_speed]) #kalman_state\n",
    "sigma_predicted = np.diag([0.1,0.1,0.1,0,0,0])\n",
    "print(\"Open thymio\")\n",
    "thymio = th.Thymio()\n",
    "await thymio.iniateLock()\n",
    "print(\"Thymio opened\")\n",
    "camera_on = True\n",
    "while True:\n",
    "    next_goal = path[0]\n",
    "    print(f'Next goal : {next_goal}')\n",
    "    time.sleep(1)\n",
    "    print(f'Current position : {current_pos}')\n",
    "    thymio.navigate(current_pos, next_goal)\n",
    "    current_pos = z_predicted[:3] # Is used for the controller\n",
    "\n",
    "    z_filtered, sigma_filtered= thymio.filtering_step(z_k_k_1 = z_predicted, \n",
    "                                    sigma_k_k_1 = sigma_predicted, \n",
    "                                    V_left_measure = thymio.getSpeedL(), \n",
    "                                    V_right_measure = thymio.getSpeedR(), \n",
    "                                    camera_working=camera_on, \n",
    "                                    x_measured=camera_position[0], \n",
    "                                    y_measured=camera_position[1],\n",
    "                                    theta_measured= camera_position[2])\n",
    "    \n",
    "    z_predicted, sigma_predicted = thymio.prediction_step(z_filtered, sigma_filtered)\n",
    "\n",
    "    obstacle,detected = thymio.getObstaclePosition()\n",
    "    if detected:\n",
    "        print(\"Obstacle detected\")\n",
    "        #TODO: use the obstacle position to update the costmap\n",
    "        path,costmap = cp.update(costmap, current_pos, goal, display_image)\n",
    "        \n",
    "    if thymio.robot_close_waypoint(current_pos[:2], next_goal[0], next_goal[1]):\n",
    "        path.pop(0)\n",
    "        if len(path) == 0:\n",
    "            print(\"Goal reached\")\n",
    "            break\n",
    "        \n",
    "        \n",
    "    \n",
    "    \n",
    "    \n",
    "    \n",
    "    \n",
    "    \n",
    "    \n",
    "    \n",
    " \n",
    "\n",
    "\n",
    "\n",
    "\n",
    "\n"
   ]
  },
  {
   "cell_type": "code",
   "execution_count": 2,
   "metadata": {},
   "outputs": [],
   "source": [
    "thymio.set_var(\"motor.left.target\", 0)\n",
    "thymio.set_var(\"motor.right.target\", 0)"
   ]
  }
 ],
 "metadata": {
  "kernelspec": {
   "display_name": "Python 3",
   "language": "python",
   "name": "python3"
  },
  "language_info": {
   "codemirror_mode": {
    "name": "ipython",
    "version": 3
   },
   "file_extension": ".py",
   "mimetype": "text/x-python",
   "name": "python",
   "nbconvert_exporter": "python",
   "pygments_lexer": "ipython3",
   "version": "3.12.2"
  }
 },
 "nbformat": 4,
 "nbformat_minor": 2
}
