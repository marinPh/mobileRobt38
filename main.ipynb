{
 "cells": [
  {
   "cell_type": "code",
   "execution_count": 1,
   "metadata": {},
   "outputs": [
    {
     "name": "stdout",
     "output_type": "stream",
     "text": [
      "Invalid input! Please enter integers.\n"
     ]
    },
    {
     "ename": "TypeError",
     "evalue": "cannot unpack non-iterable NoneType object",
     "output_type": "error",
     "traceback": [
      "\u001b[1;31m---------------------------------------------------------------------------\u001b[0m",
      "\u001b[1;31mTypeError\u001b[0m                                 Traceback (most recent call last)",
      "Cell \u001b[1;32mIn[1], line 11\u001b[0m\n\u001b[0;32m      9\u001b[0m \u001b[38;5;66;03m#FIXME: not right original image\u001b[39;00m\n\u001b[0;32m     10\u001b[0m original_image \u001b[38;5;241m=\u001b[39m cv2\u001b[38;5;241m.\u001b[39mimread(\u001b[38;5;124m'\u001b[39m\u001b[38;5;124mgrid.png\u001b[39m\u001b[38;5;124m'\u001b[39m,\u001b[38;5;241m0\u001b[39m)\n\u001b[1;32m---> 11\u001b[0m costmap, block_size, start, goal, display_image\u001b[38;5;241m=\u001b[39mcp\u001b[38;5;241m.\u001b[39minit(original_image)\n\u001b[0;32m     12\u001b[0m path,costmap \u001b[38;5;241m=\u001b[39m cp\u001b[38;5;241m.\u001b[39mupdate(costmap, block_size,start, goal, display_image,[])\n\u001b[0;32m     13\u001b[0m next_goal \u001b[38;5;241m=\u001b[39m path[\u001b[38;5;241m0\u001b[39m]\n",
      "\u001b[1;31mTypeError\u001b[0m: cannot unpack non-iterable NoneType object"
     ]
    }
   ],
   "source": [
    "import Thymio as th\n",
    "import time\n",
    "import costmap_path as cp\n",
    "import cv2\n",
    "import numpy as np\n",
    "import threading\n",
    "import vision.detect_aruco as da\n",
    "\n",
    "#FIXME: not right original image\n",
    "original_image = cv2.imread('grid.png',0)\n",
    "costmap, block_size, start, goal, display_image=cp.init(original_image)\n",
    "path,costmap = cp.update(costmap, block_size,start, goal, display_image,[])\n",
    "next_goal = path[0]\n",
    "current_pos = np.array([start[0],start[1],0])\n",
    "current_speed = np.array([0,0,0])\n",
    "camera_position = (0,0,0)\n",
    "z_predicted = np.concatenate([current_pos,current_speed]) #kalman_state\n",
    "sigma_predicted = np.diag([0.1,0.1,0.1,0,0,0])\n",
    "print(\"Open thymio\")\n",
    "thymio = th.Thymio()\n",
    "await thymio.iniateLock()\n",
    "print(\"Thymio opened\")\n",
    "camera_on = True\n",
    "vars_towait = ['prox.horizontal','motor.right.speed','motor.left.speed','motor.right.target','motor.right.target']\n",
    "aruco_thread = threading.Thread(target=da.main(), daemon=True)\n",
    "aruco_thread.start()\n",
    "while True:\n",
    "    \n",
    "    thymio.wait_for_variables([])\n",
    "    next_goal = path[0]\n",
    "    print(f'Next goal : {next_goal}')\n",
    "    print(f'Current position : {current_pos}')\n",
    "    thymio.navigate(current_pos, next_goal)\n",
    "    current_pos = z_predicted[:3] # Is used for the controller\n",
    "    it_vars = thymio.get_multiple_variables([\"motor.left.speed\",\"motor.right.speed\"])\n",
    "    \n",
    "    z_filtered, sigma_filtered= thymio.filtering_step(z_k_k_1 = z_predicted, \n",
    "                                    sigma_k_k_1 = sigma_predicted, \n",
    "                                    V_left_measure =it_vars[\"motor.left.speed\"]*thymio.speedConversion, \n",
    "                                    V_right_measure = it_vars[\"motor.right.speed\"]*thymio.speedConversion, \n",
    "                                    camera_working=camera_on, \n",
    "                                    x_measured=camera_position[0], \n",
    "                                    y_measured=camera_position[1],\n",
    "                                    theta_measured= camera_position[2])\n",
    "    \n",
    "    z_predicted, sigma_predicted = thymio.prediction_step(z_filtered, sigma_filtered)\n",
    "\n",
    "    obstacle,detected = thymio.getObstaclePosition()\n",
    "    if detected:\n",
    "        print(\"Obstacle detected\")\n",
    "        #TODO: use the obstacle position to update the costmap\n",
    "        path,costmap = cp.update(costmap, current_pos, goal, display_image)\n",
    "        \n",
    "    if thymio.robot_close_waypoint(current_pos[:2], next_goal[0], next_goal[1]):\n",
    "        path.pop(0)\n",
    "        if len(path) == 0:\n",
    "            print(\"Goal reached\")\n",
    "            thymio.stop()\n",
    "            aruco_thread.join()\n",
    "            break\n",
    "        \n",
    "        \n",
    "    \n",
    "    \n",
    "    \n",
    "    \n",
    "    \n",
    "    \n",
    "    \n",
    "    \n",
    " \n",
    "\n",
    "\n",
    "\n",
    "\n",
    "\n"
   ]
  },
  {
   "cell_type": "code",
   "execution_count": null,
   "metadata": {},
   "outputs": [],
   "source": [
    "thymio.set_multiple_variables({\"motor.left.target\":[0],\"motor.right.target\":[0]})"
   ]
  }
 ],
 "metadata": {
  "kernelspec": {
   "display_name": "Python 3",
   "language": "python",
   "name": "python3"
  },
  "language_info": {
   "codemirror_mode": {
    "name": "ipython",
    "version": 3
   },
   "file_extension": ".py",
   "mimetype": "text/x-python",
   "name": "python",
   "nbconvert_exporter": "python",
   "pygments_lexer": "ipython3",
   "version": "3.12.2"
  }
 },
 "nbformat": 4,
 "nbformat_minor": 2
}
