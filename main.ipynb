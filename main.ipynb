{
 "cells": [
  {
   "cell_type": "code",
   "execution_count": 1,
   "metadata": {},
   "outputs": [],
   "source": [
    "\n",
    "import Thymio as th\n",
    "import time\n",
    "import videopath1 as vp\n",
    "import numpy as np\n",
    "import threading\n",
    "import vision.detect_aruco as da\n",
    "import queue\n",
    "import cv2\n",
    "def draw_path(img, path):\n",
    "    for i in range(len(path)-1):\n",
    "        cv2.line(img, path[i], path[i+1], (0, 255, 0), 2)\n",
    "    return img"
   ]
  },
  {
   "cell_type": "code",
   "execution_count": null,
   "metadata": {},
   "outputs": [
    {
     "name": "stdout",
     "output_type": "stream",
     "text": [
      "[INFO] detecting 'DICT_ARUCO_ORIGINAL' markers...\n",
      "Open thymio\n",
      "Thymio opened\n",
      "first pos queried (82.52497729336966, 670.8809135399674, 0.09065988720074511)\n",
      "The costmap shape is: (8, 18)\n",
      "Binary image saved as 'binary_image.png'.\n",
      "Click to select the goal point.\n",
      "Goal point selected at: (914, 318)\n"
     ]
    },
    {
     "ename": "error",
     "evalue": "OpenCV(4.6.0) D:\\a\\opencv-python\\opencv-python\\opencv\\modules\\highgui\\src\\window_w32.cpp:2563: error: (-27:Null pointer) NULL window: 'Select  Goal' in function 'cvSetMouseCallback'\n",
     "output_type": "error",
     "traceback": [
      "\u001b[1;31m---------------------------------------------------------------------------\u001b[0m",
      "\u001b[1;31merror\u001b[0m                                     Traceback (most recent call last)",
      "Cell \u001b[1;32mIn[2], line 16\u001b[0m\n\u001b[0;32m     14\u001b[0m \u001b[38;5;28mprint\u001b[39m(\u001b[38;5;124m\"\u001b[39m\u001b[38;5;124mfirst pos queried\u001b[39m\u001b[38;5;124m\"\u001b[39m,start)\n\u001b[0;32m     15\u001b[0m path_cm, path, costmap, block_height, block_width, start, goal, display_image, cm_per_pixel \u001b[38;5;241m=\u001b[39mvp\u001b[38;5;241m.\u001b[39minit(original_image,start)\n\u001b[1;32m---> 16\u001b[0m \u001b[43mcv2\u001b[49m\u001b[38;5;241;43m.\u001b[39;49m\u001b[43msetMouseCallback\u001b[49m\u001b[43m(\u001b[49m\u001b[38;5;124;43m\"\u001b[39;49m\u001b[38;5;124;43mSelect  Goal\u001b[39;49m\u001b[38;5;124;43m\"\u001b[39;49m\u001b[43m,\u001b[49m\u001b[43m \u001b[49m\u001b[43mvp\u001b[49m\u001b[38;5;241;43m.\u001b[39;49m\u001b[43mselect_points\u001b[49m\u001b[43m,\u001b[49m\u001b[43m \u001b[49m\u001b[43moriginal_image\u001b[49m\u001b[43m)\u001b[49m\n\u001b[0;32m     17\u001b[0m cm_p_pixel \u001b[38;5;241m=\u001b[39m \u001b[38;5;241m77\u001b[39m\u001b[38;5;241m/\u001b[39mblock_width\n\u001b[0;32m     18\u001b[0m path \u001b[38;5;241m=\u001b[39m vp\u001b[38;5;241m.\u001b[39mupdate(costmap,block_height,block_width,start,vp\u001b[38;5;241m.\u001b[39mpoints[\u001b[38;5;241m0\u001b[39m],original_image,cm_p_pixel,[])\n",
      "\u001b[1;31merror\u001b[0m: OpenCV(4.6.0) D:\\a\\opencv-python\\opencv-python\\opencv\\modules\\highgui\\src\\window_w32.cpp:2563: error: (-27:Null pointer) NULL window: 'Select  Goal' in function 'cvSetMouseCallback'\n"
     ]
    },
    {
     "ename": "",
     "evalue": "",
     "output_type": "error",
     "traceback": [
      "\u001b[1;31mThe Kernel crashed while executing code in the current cell or a previous cell. \n",
      "\u001b[1;31mPlease review the code in the cell(s) to identify a possible cause of the failure. \n",
      "\u001b[1;31mClick <a href='https://aka.ms/vscodeJupyterKernelCrash'>here</a> for more info. \n",
      "\u001b[1;31mView Jupyter <a href='command:jupyter.viewOutput'>log</a> for further details."
     ]
    }
   ],
   "source": [
    "\n",
    "channel = queue.Queue(maxsize=2)\n",
    "aruco_thread = threading.Thread(target=da.main,args=(channel,), daemon=True)\n",
    "aruco_thread.start()\n",
    "print(\"Open thymio\")\n",
    "thymio = th.Thymio()\n",
    "await thymio.initiateLock()\n",
    "print(\"Thymio opened\")\n",
    "query = channel.get()\n",
    "\n",
    "\n",
    "\n",
    "camera_on = query[0]\n",
    "original_image = query[1]\n",
    "display_image = query[2]\n",
    "start = query[3]\n",
    "cv2.imshow(\"mainframe\", display_image)\n",
    "cv2.waitKey(1)\n",
    "\n",
    "while not camera_on:\n",
    "    query = channel.get()\n",
    "    camera_on = query[0]\n",
    "    original_image = query[1]\n",
    "    display_image = query[2]\n",
    "    start = query[3]\n",
    "    cv2.imshow(\"mainframe\", display_image)\n",
    "    cv2.waitKey(1)\n",
    "    print(\"waiting for camera\", end=\"\\r\")\n",
    "\n",
    "print(\"first pos queried\",start)\n",
    "path_cm, path, costmap, block_height, block_width, _, goal, _, cm_per_pixel =vp.init(original_image,start)\n",
    "cv2.setMouseCallback(\"Select  Goal\", vp.select_points, original_image)\n",
    "cm_p_pixel = 77/block_width\n",
    "#path = vp.update(costmap,block_height,block_width,start,vp.points[0],original_image,cm_p_pixel,[])\n",
    "next_goal = path[0]\n",
    "current_pos = np.array([start[0],start[1],start[2]])\n",
    "current_speed = np.array([0,0,0])\n",
    "camera_position = start\n",
    "z_predicted = np.concatenate([current_pos,current_speed]) #kalman_state\n",
    "sigma_predicted = np.diag([0.1,0.1,0.1,0,0,0])\n",
    "\n",
    "\n",
    "\n",
    "vars_towait = ['prox.horizontal','motor.right.speed','motor.left.speed','motor.right.target','motor.right.target']\n",
    "vars_thread = threading.Thread(target=thymio.wait, args=(vars_towait,))\n",
    "vars_thread.start()\n",
    "time.sleep(1)\n",
    "\n",
    "while True:\n",
    "    query = channel.get()\n",
    "    camera_on = query[0]\n",
    "    #original_image = query[1]\n",
    "    display_image = query[2]\n",
    "    start = query[3]\n",
    "    \n",
    "    draw_path(display_image, path_cm)\n",
    "    cv2.imshow(\"going there\", display_image)\n",
    "    cv2.waitKey(1)\n",
    "    print(path, end=\"\\r\")\n",
    "    next_goal = path[0]\n",
    "    print(f'Next goal : {next_goal}')\n",
    "    print(f'Current position : {current_pos}')\n",
    "    thymio.navigate(current_pos, next_goal)\n",
    "    current_pos = z_predicted[:3] # Is used for the controller\n",
    "    it_vars = thymio.get_multiple_variables([\"motor.left.speed\",\"motor.right.speed\"])\n",
    "    \n",
    "    z_filtered, sigma_filtered= thymio.filtering_step(z_k_k_1 = z_predicted, \n",
    "                                    sigma_k_k_1 = sigma_predicted, \n",
    "                                    V_left_measure =it_vars[\"motor.left.speed\"]*thymio.speedConversion, \n",
    "                                    V_right_measure = it_vars[\"motor.right.speed\"]*thymio.speedConversion, \n",
    "                                    camera_working=camera_on, \n",
    "                                    x_measured=camera_position[0], \n",
    "                                    y_measured=camera_position[1],\n",
    "                                    theta_measured= camera_position[2])\n",
    "    \n",
    "    z_predicted, sigma_predicted = thymio.prediction_step(z_filtered, sigma_filtered)\n",
    "\n",
    "    obstacle,detected = thymio.getObstaclePosition()\n",
    "    if detected:\n",
    "        print(\"Obstacle detected\")\n",
    "        #TODO: use the obstacle position to update the costmap\n",
    "        original_image = query[1]\n",
    "        path,costmap = vp.update(costmap,block_height,block_width,current_pos,vp.points[0],original_image,cm_p_pixel,obstacle)\n",
    "        \n",
    "    if thymio.robot_close_waypoint(current_pos[:2], next_goal[0], next_goal[1]):\n",
    "        path.pop(0)\n",
    "        if len(path) == 0:\n",
    "            print(\"Goal reached\")\n",
    "            thymio.set_multiple_variables({\"motor.left.target\":[0],\"motor.right.target\":[0]})\n",
    "            vars_thread.join()\n",
    "            thymio.stop()\n",
    "            aruco_thread.join()\n",
    "            break\n",
    "        \n",
    "        "
   ]
  },
  {
   "cell_type": "code",
   "execution_count": 2,
   "metadata": {},
   "outputs": [
    {
     "name": "stdout",
     "output_type": "stream",
     "text": [
      "4.6.0\n"
     ]
    }
   ],
   "source": [
    "import cv2\n",
    "print(cv2.__version__)"
   ]
  },
  {
   "cell_type": "code",
   "execution_count": null,
   "metadata": {},
   "outputs": [],
   "source": []
  }
 ],
 "metadata": {
  "kernelspec": {
   "display_name": "Python 3",
   "language": "python",
   "name": "python3"
  },
  "language_info": {
   "codemirror_mode": {
    "name": "ipython",
    "version": 3
   },
   "file_extension": ".py",
   "mimetype": "text/x-python",
   "name": "python",
   "nbconvert_exporter": "python",
   "pygments_lexer": "ipython3",
   "version": "3.12.2"
  }
 },
 "nbformat": 4,
 "nbformat_minor": 2
}
