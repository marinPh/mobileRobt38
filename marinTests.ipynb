{
 "cells": [
  {
   "cell_type": "code",
   "execution_count": 1,
   "metadata": {},
   "outputs": [],
   "source": [
    "\n",
    "\n",
    "\n",
    "#Create a Client Object:\n",
    "\n",
    "#lidar\n",
    "\n",
    "\n"
   ]
  },
  {
   "cell_type": "code",
   "execution_count": null,
   "metadata": {},
   "outputs": [
    {
     "name": "stderr",
     "output_type": "stream",
     "text": [
      "Traceback (most recent call last):\n",
      "  File \"<frozen runpy>\", line 198, in _run_module_as_main\n",
      "  File \"<frozen runpy>\", line 88, in _run_code\n",
      "  File \"c:\\Users\\marin\\AppData\\Local\\Programs\\Python\\Python312\\Lib\\site-packages\\tdmclient\\__main__.py\", line 67, in <module>\n",
      "    sys.exit(getattr(tdmclient.tools, tool_name).main(values))\n",
      "             ^^^^^^^^^^^^^^^^^^^^^^^^^^^^^^^^^^^^^^^^^^^^^^^^\n",
      "  File \"c:\\Users\\marin\\AppData\\Local\\Programs\\Python\\Python312\\Lib\\site-packages\\tdmclient\\tools\\list.py\", line 112, in main\n",
      "    with ClientAsync(zeroconf=zeroconf, zeroconf_all=zeroconf_all,\n",
      "         ^^^^^^^^^^^^^^^^^^^^^^^^^^^^^^^^^^^^^^^^^^^^^^^^^^^^^^^^^\n",
      "  File \"c:\\Users\\marin\\AppData\\Local\\Programs\\Python\\Python312\\Lib\\site-packages\\tdmclient\\clientasync.py\", line 42, in __init__\n",
      "    super(ClientAsync, self).__init__(**kwargs)\n",
      "  File \"c:\\Users\\marin\\AppData\\Local\\Programs\\Python\\Python312\\Lib\\site-packages\\tdmclient\\client.py\", line 98, in __init__\n",
      "    self.connect()\n",
      "  File \"c:\\Users\\marin\\AppData\\Local\\Programs\\Python\\Python312\\Lib\\site-packages\\tdmclient\\client.py\", line 112, in connect\n",
      "    self.tdm = TDMConnection(self.tdm_addr, self.tdm_port)\n",
      "               ^^^^^^^^^^^^^^^^^^^^^^^^^^^^^^^^^^^^^^^^^^^\n",
      "  File \"c:\\Users\\marin\\AppData\\Local\\Programs\\Python\\Python312\\Lib\\site-packages\\tdmclient\\tcp.py\", line 104, in __init__\n",
      "    self.io = TCPClientIO(host, port)\n",
      "              ^^^^^^^^^^^^^^^^^^^^^^^\n",
      "  File \"c:\\Users\\marin\\AppData\\Local\\Programs\\Python\\Python312\\Lib\\site-packages\\tdmclient\\tcp.py\", line 96, in __init__\n",
      "    self.socket.connect((host, port))\n",
      "ConnectionRefusedError: [WinError 10061] Aucune connexion n’a pu être établie car l’ordinateur cible l’a expressément refusée\n"
     ]
    }
   ],
   "source": []
  },
  {
   "cell_type": "code",
   "execution_count": 3,
   "metadata": {},
   "outputs": [
    {
     "name": "stdout",
     "output_type": "stream",
     "text": [
      "Requirement already satisfied: tdmclient in c:\\users\\marin\\appdata\\local\\programs\\python\\python312\\lib\\site-packages (0.1.21)\n",
      "Requirement already satisfied: websockets in c:\\users\\marin\\appdata\\local\\programs\\python\\python312\\lib\\site-packages (from tdmclient) (13.0.1)\n",
      "Requirement already satisfied: zeroconf in c:\\users\\marin\\appdata\\local\\programs\\python\\python312\\lib\\site-packages (from tdmclient) (0.134.0)\n",
      "Requirement already satisfied: ifaddr>=0.1.7 in c:\\users\\marin\\appdata\\local\\programs\\python\\python312\\lib\\site-packages (from zeroconf->tdmclient) (0.2.0)\n"
     ]
    }
   ],
   "source": [
    "!python -m pip install tdmclient"
   ]
  },
  {
   "cell_type": "code",
   "execution_count": null,
   "metadata": {},
   "outputs": [
    {
     "data": {
      "text/plain": [
       "Node b8fa9231-87f5-4b26-9f4a-2523ba566a88"
      ]
     },
     "execution_count": 1,
     "metadata": {},
     "output_type": "execute_result"
    }
   ],
   "source": [
    "\n",
    "        \n",
    "        \n",
    "        \n"
   ]
  },
  {
   "cell_type": "code",
   "execution_count": null,
   "metadata": {},
   "outputs": [
    {
     "name": "stdout",
     "output_type": "stream",
     "text": [
      "2.586342229199372\n"
     ]
    },
    {
     "data": {
      "image/png": "[encoded data removed]",
      "text/plain": [
       "<Figure size 640x480 with 1 Axes>"
      ]
     },
     "metadata": {},
     "output_type": "display_data"
    }
   ],
   "source": [
    "import cv2\n",
    "import math\n",
    "import numpy as np\n",
    "import matplotlib.pyplot as plt \n",
    "\n",
    "\n",
    "## make  a numpy array of shape 300,300,3 to represent a cost map\n",
    "cost_map = np.zeros((30,30,3),dtype=np.uint8)\n",
    "#make everything white\n",
    "cost_map[:,:,:] = (255,255,255)\n",
    "\n",
    "cost_map[15,15] = (0,255,0)\n",
    "\n",
    "#set center map to 1\n",
    "\n",
    "#set the border of the map to 1\n",
    "#show map\n",
    "\n",
    "plt.imshow(cost_map)\n",
    "await node.wait_for_variables({\"prox.horizontal\"})\n",
    "\n",
    "#5cm == 1455\n",
    "#2cm == 2685\n",
    "#0 cm == 4003\n",
    "#FIXME: Magic number\n",
    "ratio = 5/(4003-1455)\n",
    "\n",
    "# Sensor angles in degrees\n",
    "\n",
    "\n",
    "print(ratio*(4003-2685))\n",
    "\n",
    "#update cost map (each block is 1cm)\n",
    "#return a list of tuples of (dist float,angle float) (impose type)\n",
    "\n",
    "\n",
    "\n",
    "    \n",
    "\n"
   ]
  },
  {
   "cell_type": "code",
   "execution_count": 11,
   "metadata": {},
   "outputs": [],
   "source": [
    "\n",
    "def getObstaclePosition() -> list:\n",
    "    \"\"\"\n",
    "    Calculates the positions of obstacles based on sensor readings.\n",
    "    The function iterates through 7 sensors, calculates the distance and angle\n",
    "    for each sensor, and appends the position to a list. If the distance is greater\n",
    "    than 5, it appends (-1, 0) to indicate no obstacle detected within the threshold.\n",
    "    Returns:\n",
    "        list of tuples: A list of tuples where each tuple contains the distance (float)\n",
    "                        and angle (float) of the detected obstacle.\n",
    "    \"\"\"\n",
    "    pos = []\n",
    "    for i in range(7):\n",
    "        ##if 2 sensors are close to each other link the 2 dots\n",
    "        aw(node.wait_for_variables({\"prox.horizontal\"}))\n",
    "        aw(client.sleep(0.01))\n",
    "        prox=node.v.prox.horizontal\n",
    "        angle = sensor_angles[list(sensor_angles.keys())[i]]\n",
    "        distance = ratio*(4003-list(prox)[i])\n",
    "        if distance > 5:\n",
    "            pos.append((-1,0))\n",
    "        else:\n",
    "            pos.append((distance,angle))\n",
    "        \n",
    "     \n",
    "    return pos"
   ]
  },
  {
   "cell_type": "code",
   "execution_count": null,
   "metadata": {},
   "outputs": [
    {
     "name": "stderr",
     "output_type": "stream",
     "text": [
      "C:\\Users\\marin\\AppData\\Local\\Temp\\ipykernel_10304\\1909962019.py:5: RuntimeWarning: coroutine 'Thymio.__init__' was never awaited\n",
      "  thymio = th.Thymio()\n",
      "RuntimeWarning: Enable tracemalloc to get the object allocation traceback\n"
     ]
    },
    {
     "ename": "TypeError",
     "evalue": "__init__() should return None, not 'coroutine'",
     "output_type": "error",
     "traceback": [
      "\u001b[1;31m---------------------------------------------------------------------------\u001b[0m",
      "\u001b[1;31mTypeError\u001b[0m                                 Traceback (most recent call last)",
      "Cell \u001b[1;32mIn[1], line 5\u001b[0m\n\u001b[0;32m      2\u001b[0m \u001b[38;5;28;01mimport\u001b[39;00m \u001b[38;5;21;01mThymio\u001b[39;00m \u001b[38;5;28;01mas\u001b[39;00m \u001b[38;5;21;01mth\u001b[39;00m\n\u001b[0;32m      4\u001b[0m \u001b[38;5;66;03m# Create an instance of the Thymio class\u001b[39;00m\n\u001b[1;32m----> 5\u001b[0m thymio \u001b[38;5;241m=\u001b[39m \u001b[43mth\u001b[49m\u001b[38;5;241;43m.\u001b[39;49m\u001b[43mThymio\u001b[49m\u001b[43m(\u001b[49m\u001b[43m)\u001b[49m\n\u001b[0;32m      7\u001b[0m \u001b[38;5;28;01mwhile\u001b[39;00m \u001b[38;5;28;01mTrue\u001b[39;00m:\n\u001b[0;32m      8\u001b[0m     \u001b[38;5;28mprint\u001b[39m(thymio\u001b[38;5;241m.\u001b[39mgetProxH())\n",
      "\u001b[1;31mTypeError\u001b[0m: __init__() should return None, not 'coroutine'"
     ]
    }
   ],
   "source": [
    "   \n",
    "   \n",
    "    \n",
    "    "
   ]
  },
  {
   "cell_type": "code",
   "execution_count": 2,
   "metadata": {},
   "outputs": [
    {
     "name": "stdout",
     "output_type": "stream",
     "text": [
      "[INFO] detecting 'DICT_6X6_250' markers...\n"
     ]
    },
    {
     "ename": "ZeroDivisionError",
     "evalue": "division by zero",
     "output_type": "error",
     "traceback": [
      "\u001b[1;31m---------------------------------------------------------------------------\u001b[0m",
      "\u001b[1;31mZeroDivisionError\u001b[0m                         Traceback (most recent call last)",
      "Cell \u001b[1;32mIn[2], line 4\u001b[0m\n\u001b[0;32m      1\u001b[0m \u001b[38;5;28;01mimport\u001b[39;00m \u001b[38;5;21;01mvision\u001b[39;00m\u001b[38;5;21;01m.\u001b[39;00m\u001b[38;5;21;01mdetect_aruco\u001b[39;00m \u001b[38;5;28;01mas\u001b[39;00m \u001b[38;5;21;01mda\u001b[39;00m\n\u001b[0;32m      2\u001b[0m \u001b[38;5;28;01mimport\u001b[39;00m \u001b[38;5;21;01mthreading\u001b[39;00m\n\u001b[1;32m----> 4\u001b[0m \u001b[43mda\u001b[49m\u001b[38;5;241;43m.\u001b[39;49m\u001b[43mmain\u001b[49m\u001b[43m(\u001b[49m\u001b[43m)\u001b[49m\n",
      "File \u001b[1;32mc:\\Users\\marin\\Documents\\mobileRobt38\\vision\\detect_aruco.py:172\u001b[0m, in \u001b[0;36mmain\u001b[1;34m()\u001b[0m\n\u001b[0;32m    169\u001b[0m real_width \u001b[38;5;241m=\u001b[39m \u001b[38;5;241m800\u001b[39m\t\t\u001b[38;5;66;03m#mm  --> REMEASURE, I DIDNT HAVE RULER\u001b[39;00m\n\u001b[0;32m    170\u001b[0m real_height \u001b[38;5;241m=\u001b[39m \u001b[38;5;241m400\u001b[39m\t\t\u001b[38;5;66;03m#mm  --> REMEASURE, I DIDNT HAVE RULER\u001b[39;00m\n\u001b[1;32m--> 172\u001b[0m x_scale \u001b[38;5;241m=\u001b[39m \u001b[43mreal_width\u001b[49m\u001b[38;5;241;43m/\u001b[39;49m\u001b[43mwidth\u001b[49m\n\u001b[0;32m    173\u001b[0m y_scale \u001b[38;5;241m=\u001b[39m real_height\u001b[38;5;241m/\u001b[39mheight\n\u001b[0;32m    175\u001b[0m \u001b[38;5;66;03m# Computing #5 Yaw\u001b[39;00m\n",
      "\u001b[1;31mZeroDivisionError\u001b[0m: division by zero"
     ]
    }
   ],
   "source": [
    "import vision.detect_aruco as da\n",
    "import threading\n",
    "\n",
    "da.main()\n",
    "        \n",
    "\n",
    "\n"
   ]
  },
  {
   "cell_type": "code",
   "execution_count": 1,
   "metadata": {},
   "outputs": [
    {
     "name": "stdout",
     "output_type": "stream",
     "text": [
      "Webcam successfully detected!\n"
     ]
    }
   ],
   "source": [
    "import cv2\n",
    "\n",
    "cap = cv2.VideoCapture(0)  # Use the default webcam\n",
    "\n",
    "if cap.isOpened():\n",
    "    print(\"Webcam successfully detected!\")\n",
    "    ret, frame = cap.read()\n",
    "    if ret:\n",
    "        cv2.imshow(\"Test Frame\", frame)\n",
    "        cv2.waitKey(0)  # Wait for a key press\n",
    "    cap.release()\n",
    "\n",
    "else:\n",
    "    print(\"Error: Could not access the webcam.\")\n"
   ]
  },
  {
   "cell_type": "code",
   "execution_count": 6,
   "metadata": {},
   "outputs": [
    {
     "name": "stdout",
     "output_type": "stream",
     "text": [
      "4.10.0\n"
     ]
    }
   ],
   "source": [
    "import cv2\n",
    "print(cv2.__version__)"
   ]
  }
 ],
 "metadata": {
  "kernelspec": {
   "display_name": "Python 3",
   "language": "python",
   "name": "python3"
  },
  "language_info": {
   "codemirror_mode": {
    "name": "ipython",
    "version": 3
   },
   "file_extension": ".py",
   "mimetype": "text/x-python",
   "name": "python",
   "nbconvert_exporter": "python",
   "pygments_lexer": "ipython3",
   "version": "3.12.2"
  }
 },
 "nbformat": 4,
 "nbformat_minor": 2
}
