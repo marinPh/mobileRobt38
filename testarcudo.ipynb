{
 "cells": [
  {
   "cell_type": "code",
   "execution_count": 1,
   "metadata": {},
   "outputs": [
    {
     "name": "stdout",
     "output_type": "stream",
     "text": [
      "Press 'q' to quit\n",
      "() None\r"
     ]
    },
    {
     "ename": "KeyboardInterrupt",
     "evalue": "",
     "output_type": "error",
     "traceback": [
      "\u001b[1;31m---------------------------------------------------------------------------\u001b[0m",
      "\u001b[1;31mKeyboardInterrupt\u001b[0m                         Traceback (most recent call last)",
      "Cell \u001b[1;32mIn[1], line 12\u001b[0m\n\u001b[0;32m     10\u001b[0m \u001b[38;5;28mprint\u001b[39m(\u001b[38;5;124m\"\u001b[39m\u001b[38;5;124mPress \u001b[39m\u001b[38;5;124m'\u001b[39m\u001b[38;5;124mq\u001b[39m\u001b[38;5;124m'\u001b[39m\u001b[38;5;124m to quit\u001b[39m\u001b[38;5;124m\"\u001b[39m)\n\u001b[0;32m     11\u001b[0m \u001b[38;5;28;01mwhile\u001b[39;00m \u001b[38;5;28;01mTrue\u001b[39;00m:\n\u001b[1;32m---> 12\u001b[0m     ret, frame \u001b[38;5;241m=\u001b[39m \u001b[43mcap\u001b[49m\u001b[38;5;241;43m.\u001b[39;49m\u001b[43mread\u001b[49m\u001b[43m(\u001b[49m\u001b[43m)\u001b[49m\n\u001b[0;32m     13\u001b[0m     \u001b[38;5;28;01mif\u001b[39;00m \u001b[38;5;129;01mnot\u001b[39;00m ret:\n\u001b[0;32m     14\u001b[0m         \u001b[38;5;28;01mbreak\u001b[39;00m\n",
      "\u001b[1;31mKeyboardInterrupt\u001b[0m: "
     ]
    }
   ],
   "source": [
    "import cv2\n",
    "import matplotlib.pyplot as plt\n",
    "\n",
    "ARUCO_DICT = cv2.aruco.DICT_6X6_250\n",
    "aruco_dict = cv2.aruco.getPredefinedDictionary(ARUCO_DICT)\n",
    "aruco_params = cv2.aruco.DetectorParameters()\n",
    "aruco_params.minMarkerPerimeterRate = 0.03\n",
    "aruco_params.polygonalApproxAccuracyRate = 0.05\n",
    "cap = cv2.VideoCapture(0)\n",
    "print(\"Press 'q' to quit\")\n",
    "while True:\n",
    "    ret, frame = cap.read()\n",
    "    if not ret:\n",
    "        break\n",
    "\n",
    "    corners, ids, _ = cv2.aruco.detectMarkers(frame, aruco_dict, parameters=aruco_params)\n",
    "    print(corners, ids,end =\"\\r\")\n",
    "\n",
    "    if ids is not None:\n",
    "        \n",
    "        cv2.aruco.drawDetectedMarkers(frame, corners, ids)\n",
    "\n",
    "    cv2.imshow(\"ArUco Detection\", frame)\n",
    "    if cv2.waitKey(1) & 0xFF == ord('q'):\n",
    "        break\n",
    "\n",
    "cap.release()\n",
    "cv2.destroyAllWindows()\n"
   ]
  },
  {
   "cell_type": "code",
   "execution_count": 6,
   "metadata": {},
   "outputs": [
    {
     "name": "stdout",
     "output_type": "stream",
     "text": [
      "Press 'q' to quit\n",
      "creating marker\n",
      "marker created\n",
      "Adaptive Threshold Max: 25\n",
      "None\n"
     ]
    },
    {
     "ename": "KeyboardInterrupt",
     "evalue": "",
     "output_type": "error",
     "traceback": [
      "\u001b[1;31m---------------------------------------------------------------------------\u001b[0m",
      "\u001b[1;31mKeyboardInterrupt\u001b[0m                         Traceback (most recent call last)",
      "Cell \u001b[1;32mIn[6], line 29\u001b[0m\n\u001b[0;32m     26\u001b[0m cv2\u001b[38;5;241m.\u001b[39maruco\u001b[38;5;241m.\u001b[39mdrawDetectedMarkers(marker, corners, ids)\n\u001b[0;32m     27\u001b[0m cv2\u001b[38;5;241m.\u001b[39mimshow(\u001b[38;5;124m\"\u001b[39m\u001b[38;5;124mMarker\u001b[39m\u001b[38;5;124m\"\u001b[39m, marker)\n\u001b[1;32m---> 29\u001b[0m \u001b[43mcv2\u001b[49m\u001b[38;5;241;43m.\u001b[39;49m\u001b[43mwaitKey\u001b[49m\u001b[43m(\u001b[49m\u001b[38;5;241;43m0\u001b[39;49m\u001b[43m)\u001b[49m\n\u001b[0;32m     30\u001b[0m cv2\u001b[38;5;241m.\u001b[39mdestroyAllWindows()\n",
      "\u001b[1;31mKeyboardInterrupt\u001b[0m: "
     ]
    }
   ],
   "source": [
    "import cv2\n",
    "import numpy as np\n",
    "\n",
    "print(\"Press 'q' to quit\")\n",
    "aruco_dict = cv2.aruco.getPredefinedDictionary(cv2.aruco.DICT_6X6_250)\n",
    "marker = np.zeros((300, 300), dtype=np.uint8)\n",
    "print(\"creating marker\")\n",
    "marker = cv2.aruco.generateImageMarker(aruco_dict, 2, 300, marker, 1)\n",
    "print(\"marker created\")\n",
    "cv2.imshow(\"Marker\", marker)\n",
    "cv2.imwrite(\"marker.png\", marker)\n",
    "\n",
    "# Detect the marker\n",
    "# Using DetectorParameters to create a fresh set of parameters\n",
    "custom_params = cv2.aruco.DetectorParameters()\n",
    "custom_params.adaptiveThreshWinSizeMax = 25\n",
    "\n",
    "# Using getParameters to retrieve parameters from an ArucoDetector\n",
    "dictionary = cv2.aruco.getPredefinedDictionary(cv2.aruco.DICT_6X6_250)\n",
    "detector = cv2.aruco.ArucoDetector(dictionary, custom_params)\n",
    "retrieved_params = detector.getDetectorParameters()\n",
    "print(\"Adaptive Threshold Max:\", retrieved_params.adaptiveThreshWinSizeMax)\n",
    "\n",
    "corners, ids, _ = cv2.aruco.detectMarkers(marker, aruco_dict, parameters=aruco_params)\n",
    "print(ids)\n",
    "cv2.aruco.drawDetectedMarkers(marker, corners, ids)\n",
    "cv2.imshow(\"Marker\", marker)\n",
    "\n",
    "cv2.waitKey(0)\n",
    "cv2.destroyAllWindows()\n"
   ]
  }
 ],
 "metadata": {
  "kernelspec": {
   "display_name": "Python 3",
   "language": "python",
   "name": "python3"
  },
  "language_info": {
   "codemirror_mode": {
    "name": "ipython",
    "version": 3
   },
   "file_extension": ".py",
   "mimetype": "text/x-python",
   "name": "python",
   "nbconvert_exporter": "python",
   "pygments_lexer": "ipython3",
   "version": "3.12.2"
  }
 },
 "nbformat": 4,
 "nbformat_minor": 2
}
