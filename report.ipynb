{
 "cells": [
  {
   "cell_type": "markdown",
   "metadata": {},
   "source": [
    "## The Team - Les Perchistes 🌴🦧\n",
    "\n",
    "- Marin Philipe $\\Longrightarrow$ Robot control 👨‍💻\n",
    "- Neil Chadli $\\Longrightarrow$ Path finding 🔍\n",
    "- Loïc Delineau $\\Longrightarrow$ Computer Vision 🕵️\n",
    "- Matthieu Scharffe $\\Longrightarrow$ Kalman Filter 🤞"
   ]
  },
  {
   "cell_type": "markdown",
   "metadata": {},
   "source": [
    "# Introduction"
   ]
  },
  {
   "cell_type": "markdown",
   "metadata": {},
   "source": [
    "## Project Description\n",
    "\n",
    "The objective of this project is to navigate the Thymio robot from a starting point to a designated endpoint, overcoming obstacles represented by black shapes along its path. The robot must also be capable of responding to unexpected obstacles that appear in its trajectory. An overhead camera will be used to calculate the robot's path and determine its location. Additionally, we aim to ensure that the Kalman filter can accurately localize the robot both with and without the camera."
   ]
  },
  {
   "cell_type": "markdown",
   "metadata": {},
   "source": [
    "# Setup"
   ]
  },
  {
   "cell_type": "markdown",
   "metadata": {},
   "source": [
    "## Play area structure\n",
    "\n",
    "**Talk about the structure and show images**"
   ]
  },
  {
   "cell_type": "markdown",
   "metadata": {},
   "source": [
    "## Software\n",
    "\n",
    "The code is entirely written in python. The libraries used are the following :\n",
    "\n",
    "- tdmclient\n",
    "- Numpy\n",
    "- OpenCV\n",
    "- **Complete the list**"
   ]
  },
  {
   "cell_type": "code",
   "execution_count": null,
   "metadata": {},
   "outputs": [],
   "source": [
    "### Importing the libraries\n",
    "\n",
    "import numpy as np\n",
    "import matplotlib.pyplot as plt"
   ]
  },
  {
   "cell_type": "markdown",
   "metadata": {},
   "source": [
    "## Measurements\n",
    "\n",
    "The measurements used to localized the thymio come from the computer vision and the speed sensors of the robot."
   ]
  },
  {
   "cell_type": "markdown",
   "metadata": {},
   "source": [
    "## Parametrization of the problem\n",
    "\n",
    "![Parametrization of the problem](./img/repère_pb.jpeg)\n",
    "\n",
    "The studied problem is composed of 2 basis and 3 frames. The main frame $\\mathcal{R}_0 = (O,\\overrightarrow{x_0}, \\overrightarrow{y_0}, \\overrightarrow{z_0})$ is defined as so : \n",
    "\n",
    "- The origin of the frame $(O)$ is in the top left corner of the image.\n",
    "- The axis $(O,\\overrightarrow{x_0})$ goes from left to right over the upper border.\n",
    "- The axis $(O,\\overrightarrow{y_0})$ goes from top to bottom over the left border.\n",
    "- The axis $(O,\\overrightarrow{z_0})$ points toward the ground.\n",
    "\n",
    "Let's define the point $T$ as the middle point of the wheels. $I_g$ (resp. $I_d$) is the contact point of the left wheel (resp. right). $L$ is the distance between $T$ and $I_g$ or $I_d$. We can define the second frame $\\mathcal{R}_2 = (T,\\overrightarrow{x_1}, \\overrightarrow{y_1}, \\overrightarrow{z_0})$.\n",
    "\n",
    "- The axis $(T,\\overrightarrow{x_1})$ is along the median of $[I_g,I_d]$ toward the front of the robot. \n",
    "- The axis $(T,\\overrightarrow{y_1})$ goes from $T$ to $I_d$.\n",
    "\n",
    "\n",
    "Let's define the third frame where some derivations will be made : $\\mathcal{R}_1 = (0,\\overrightarrow{x_1}, \\overrightarrow{y_1}, \\overrightarrow{z_0})$. $\\theta$ is defined as rotation angle between basis 0 and basis 1. It is important to note that to go from basis 0 to 1, the rotation matrix is :\n",
    "\n",
    "$$\n",
    "    \\begin{pmatrix} x_1\\\\ y_1 \\end{pmatrix} = \\underbrace{\\begin{pmatrix} \\cos{\\theta} & \\sin{\\theta}\\\\ -\\sin{\\theta} & \\cos{\\theta} \\end{pmatrix}}_{R(\\theta)} \\begin{pmatrix} x_0\\\\ y_0 \\end{pmatrix}\n",
    "$$"
   ]
  },
  {
   "cell_type": "code",
   "execution_count": 8,
   "metadata": {},
   "outputs": [],
   "source": [
    "def Rotation_theta(theta):\n",
    "    return np.array([[np.cos(theta), np.sin(theta)],\n",
    "                     [-np.sin(theta), np.cos(theta)]])"
   ]
  },
  {
   "cell_type": "markdown",
   "metadata": {},
   "source": [
    "### Kinematic/Dynamic of the system\n",
    "\n",
    "Positions :\n",
    "\n",
    "$$\n",
    "\\begin{aligned}\n",
    "    \\overrightarrow{OT} &= x \\  \\overrightarrow{x_0} + y \\  \\overrightarrow{y_0} \\\\\n",
    "    &= x_1 \\  \\overrightarrow{x_1} + y_1 \\  \\overrightarrow{y_1}\n",
    "\\end{aligned}\n",
    "$$\n",
    "\n",
    "Speeds :\n",
    "\n",
    "$$\n",
    "\\begin{aligned}    \n",
    "    \\overrightarrow{V(T,1/0)} &= \\left( \\dot x_1 - \\dot{\\theta} y_1 \\right) \\  \\overrightarrow{x_1} + \\left(\\dot y_1 + \\dot \\theta x_1 \\right) \\  \\overrightarrow{y_1} \\\\\n",
    "    \\overrightarrow{V(I_d,1/0)} &= \\left( \\dot x_1 - \\dot{\\theta} y_1 - \\dot \\theta L \\right) \\  \\overrightarrow{x_1} + \\left(\\dot y_1 + \\dot \\theta x_1 \\right) \\  \\overrightarrow{y_1} \\\\\n",
    "    \\overrightarrow{V(I_g,1/0)} &= \\left( \\dot x_1 - \\dot{\\theta} y_1 + \\dot \\theta L \\right) \\  \\overrightarrow{x_1} + \\left(\\dot y_1 + \\dot \\theta x_1 \\right) \\  \\overrightarrow{y_1}\n",
    "\\end{aligned}\n",
    "$$\n",
    "\n",
    "The quantities that the robot measures and controls are the following :\n",
    "\n",
    "$$\n",
    "\\left\\{\n",
    "\\begin{aligned}\n",
    "    V_{I_d} &= \\overrightarrow{V(I_d,1/0)} . \\overrightarrow{x_1} = \\dot x_1 - \\dot{\\theta} y_1 - \\dot \\theta L \\\\\n",
    "    V_{I_g} &= \\overrightarrow{V(I_g,1/0)} . \\overrightarrow{x_1} = \\dot x_1 - \\dot{\\theta} y_1 + \\dot \\theta L\n",
    "\\end{aligned} \\right. \\Leftrightarrow\n",
    "\\left\\{\n",
    "\\begin{aligned}\n",
    "    \\frac{V_{I_g} + V_{I_d}}{2} & = \\dot x_1 - \\dot{\\theta} y_1 = \\dot x \\cos{\\theta} + \\dot y \\sin{\\theta}\\\\\n",
    "    \\frac{V_{I_g} - V_{I_d}}{2} &= \\dot \\theta L\n",
    "\\end{aligned} \\right.\n",
    "$$"
   ]
  },
  {
   "cell_type": "markdown",
   "metadata": {},
   "source": [
    "### Dimensions of the parameters\n",
    "\n",
    "To make sure that we don't have an interface problem, we paid attention to the units of the used quantities. We paid attention to the measurements of the Thymio which are in its own unit system. So we took a special care for them. We convert them.\n",
    "\n",
    "- The coordinates $(x,y)$ are in mm\n",
    "- The angle $(\\theta)$ is in radian\n",
    "- The speeds $(\\dot x, \\dot y)$ are in mm/s\n",
    "- The angular speeds $(\\dot \\theta)$ are in rad/s\n",
    "\n"
   ]
  },
  {
   "cell_type": "markdown",
   "metadata": {},
   "source": [
    "# Computer vision"
   ]
  },
  {
   "cell_type": "markdown",
   "metadata": {},
   "source": [
    "# Path Finding"
   ]
  },
  {
   "cell_type": "markdown",
   "metadata": {},
   "source": [
    "# Robot control\n",
    "\n",
    "## Thymio class\n",
    "\n",
    "**Talk about the thymio class**\n",
    "\n",
    "## Control Algorithm\n",
    "\n",
    "Based on the quantities that the thymio measures and control, the simplest is to separate the control in two parts. In a first time, the robot pivots to align with the direction it has to go. In a second time, it translates to a waypoint. Since the robot cannot align and reach the waypoint perfectly, we defined some margins for it that we will see later.\n",
    "\n",
    "### Rotation control\n",
    "\n",
    "In the particular case, $u = V_{I_g} = -V_{I_d}$, it is possible to show that the robot only rotates. By setting the state variable $z \\in \\mathbb{R}$ such that $z=\\theta$. We get for the state equation :\n",
    "\n",
    "$$\n",
    "    \\dot z = \\frac{1}{L}u\n",
    "$$\n",
    "\n",
    "That can be discretized as :\n",
    "\n",
    "$$\n",
    "    z_{k+1} = z_k + \\frac{T_s}{L} u_k\n",
    "$$\n",
    "\n",
    "We simply use a proportional controller $u_k = -K_{\\text{rot}} z_k$ that verifies the following stability criteria :\n",
    "\n",
    "$$\n",
    "    \\left| 1 - \\frac{K_{\\text{rot}} T_s}{L} \\right| \\leq 1 \\Leftrightarrow 0 \\leq K_{\\text{rot}} \\leq \\frac{2 L}{T_s}\n",
    "$$\n",
    "\n",
    "The order sent to the wheel has a saturation :\n",
    "\n",
    "$$\n",
    "    u_k = \\left\\{\\begin{aligned} &K_{\\text{rot}} \\left( \\theta_b - \\hat \\theta_{k|k-1} \\right) &\\text{ if } \\vert u_k \\vert \\leq u_{max} \\\\\n",
    "    & u_{max} &\\text{ if } u_k > u_{max} \\\\\n",
    "    & -u_{max} &\\text{ if } u_k < u_{max}\n",
    "    \\end{aligned}\n",
    "    \\right.\n",
    "$$\n",
    "\n",
    "with $\\theta_b = \\arctan_2{\\left(\\frac{y_f}{x_f}\\right)}$ and $\\hat \\theta_{k|k-1}$ the predicted state computed by the Kalman filter."
   ]
  },
  {
   "cell_type": "code",
   "execution_count": null,
   "metadata": {},
   "outputs": [],
   "source": [
    "speedConversion = 0.797829 / 2.7\n",
    "L = 46.75  # mm\n",
    "Ts = 0.38\n",
    "K_rotation = L/(8*Ts)\n",
    "\n",
    "def rotation_control(self, theta_estimate, xb, yb):\n",
    "    theta_b = np.arctan2(yb, xb)  # rad\n",
    "    u = K_rotation * (theta_b - theta_estimate)  # mm/s\n",
    "    u = u/speedConversion\n",
    "    if u > 225:\n",
    "        u = 225\n",
    "    elif u < -225:\n",
    "        u = -225\n",
    "    left_motor_target = u  # in Thymio's unit\n",
    "    right_motor_target = -u  # in Thymio's unit\n",
    "    return left_motor_target, right_motor_target"
   ]
  },
  {
   "cell_type": "markdown",
   "metadata": {},
   "source": [
    "### Translation control\n",
    "\n",
    "\n",
    "In the particular case $u=V_{I_g}=V_{I_d}$, with the state variable $z=x_1$ the discrete equation is :\n",
    "\n",
    "$$\n",
    "    z_{k+1} = z_k + T_s u_k\n",
    "$$\n",
    "\n",
    "The proportional controller $u_k = -K_{\\text{trans}} z_k$ verifies the following stability criteria :\n",
    "\n",
    "$$\n",
    "    0 \\leq K_{\\text{trans}} \\leq \\frac{2}{T_s}\n",
    "$$\n",
    "\n",
    "The order sent to the wheels is the following :\n",
    "\n",
    "$$\n",
    "    u_k = \\left\\{\\begin{aligned} &K_{\\text{trans}} \\left( (x_1)_b - (\\hat x_1)_{k|k-1} \\right) &\\text{ if } \\vert u_k \\vert \\leq u_{max} \\\\\n",
    "    & u_{max} &\\text{ if } u_k > u_{max} \\\\\n",
    "    & -u_{max} &\\text{ if } u_k < u_{max}\n",
    "    \\end{aligned}\n",
    "    \\right.\n",
    "$$\n",
    "\n",
    "With $(x_1)_b = \\cos \\left(\\theta_{k|k} \\right) x_b + \\sin \\left( \\theta_{k|k} \\right) y_b$ and $(\\hat x_1)_{k|k-1}$ the filtered state given by the Kalman filter\n",
    "\n"
   ]
  },
  {
   "cell_type": "code",
   "execution_count": null,
   "metadata": {},
   "outputs": [],
   "source": [
    "K_translation = 1/(8*Ts)\n",
    "\n",
    "def translation_control(pos_estimate, xb, yb):\n",
    "    x_estimate = pos_estimate[0]  # mm\n",
    "    y_estimate = pos_estimate[1]  # mm\n",
    "    theta_estimate = pos_estimate[2]  # rad\n",
    "    x1_b = np.cos(theta_estimate) * xb + np.sin(theta_estimate) * yb  # mm\n",
    "    x1_estimate = np.cos(theta_estimate) * x_estimate + np.sin(theta_estimate) * y_estimate # mm\n",
    "    u = K_translation * (x1_b - x1_estimate)  # en mm/s\n",
    "    u = u / speedConversion\n",
    "    if u > 225:\n",
    "        u = 225\n",
    "    elif u < -225:\n",
    "        u = -225\n",
    "    left_motor_target = u  # en unité Thymio\n",
    "    right_motor_target = u  # en unité Thymio\n",
    "    return left_motor_target, right_motor_target"
   ]
  },
  {
   "cell_type": "markdown",
   "metadata": {},
   "source": [
    "### Margins control\n",
    "\n",
    "So for the margins of the control algorithm we defined them as so :\n",
    "\n",
    "- A square of half-length $l$ is set as the goal around the waypoint $(x_b,y_b)$\n",
    "- A cone is defined from this square for which the robot should point to\n",
    "\n",
    "The scheme below presents the problem :\n",
    "\n",
    "![Image of the margins for the control](./img/marges_cone.jpeg)"
   ]
  },
  {
   "cell_type": "markdown",
   "metadata": {},
   "source": [
    "#### Margin set waypoint\n",
    "\n",
    "For numerical efficiency, the margin set around the waypoint $M_w$ can be written as a polytope.\n",
    "\n",
    "$$\n",
    "\\begin{aligned}\n",
    "    M_w &= \\left\\{ \\begin{pmatrix}x\\\\ y \\end{pmatrix} \\in \\mathbb{R}^2 : \\vert x - x_b \\vert \\leq l, \\vert y - y_b \\vert \\leq l   \\right\\} \\\\\n",
    "    &= \\left\\{ \\begin{pmatrix}x\\\\ y \\end{pmatrix} \\in \\mathbb{R}^2 : \\underbrace{\\begin{pmatrix}1&0\\\\-1&0\\\\0&1\\\\0&-1 \\end{pmatrix}}_{F} \\begin{pmatrix}x-x_b\\\\ y-y_b \\end{pmatrix} \\leq l \\ \\mathbf{1} \\right\\}\n",
    "\\end{aligned}\n",
    "$$"
   ]
  },
  {
   "cell_type": "code",
   "execution_count": null,
   "metadata": {},
   "outputs": [],
   "source": [
    "l = 50 #mm\n",
    "\n",
    "def robot_close_waypoint(pos_estimate, xb, yb):\n",
    "        \"\"\"_summary_\n",
    "        Return a boolean to say if the robot is in a square with (xb,yb) as center and 2*l as length size\n",
    "        Args:\n",
    "            pos_estimate (1D np array with 2 variables): x,y position of the robot in mm\n",
    "            xb (float): x position of the waypoint\n",
    "            yb (float): y position of the waypoint\n",
    "        \"\"\"\n",
    "        ones = np.array([1, 1, 1, 1])\n",
    "        F = np.array([[1, 0], [-1, 0], [0, 1], [0, -1]])\n",
    "        pos_waypoint = np.array([xb, yb])\n",
    "\n",
    "        print(\"Is the goal reached ?\")\n",
    "        print(all(F @ (pos_estimate - pos_waypoint) <= l * ones))\n",
    "\n",
    "        if all(F @ (pos_estimate - pos_waypoint) <= l * ones):\n",
    "            return True\n",
    "        else:\n",
    "            return False"
   ]
  },
  {
   "cell_type": "markdown",
   "metadata": {},
   "source": [
    "#### Margin set cone\n",
    "\n",
    "The computation of the margin set for the yaw of the waypoint $C_w$ is a little bit more convolved. Based on the schema above, the set is defined as :\n",
    "\n",
    "$$\n",
    "    C_w = \\left\\{ \\theta \\in \\mathbb{R} : \\theta_{min} \\leq \\theta \\leq \\theta_{max} \\right\\}\n",
    "$$\n",
    "\n",
    "First, we have to compute the vertices of $M_w$. It is straightforward :"
   ]
  },
  {
   "cell_type": "code",
   "execution_count": null,
   "metadata": {},
   "outputs": [],
   "source": [
    "def get_vertices_waypoint(xb, yb):\n",
    "    vertices = np.array(\n",
    "        [\n",
    "            [xb + l, yb + l],\n",
    "            [xb - l, yb + l],\n",
    "            [xb - l, yb - l],\n",
    "            [xb + l, yb - l],\n",
    "        ]\n",
    "    )\n",
    "    return vertices"
   ]
  },
  {
   "cell_type": "markdown",
   "metadata": {},
   "source": [
    "Since we know the position of the robot $(x,y)$ and the position of the vertices of $M_w$, let's call this set $V(M_w)$, we can easily get $\\theta_{min}$ and $\\theta_{max}$ by solving the following minimization-maximization problem :\n",
    "\n",
    "$$\n",
    "\\left\\{\\begin{aligned}\n",
    "&\\theta_{max} = \\max \\Theta_w \\\\\n",
    "&\\theta_{min} = \\min \\Theta_w\n",
    "\\end{aligned}\n",
    "\\right.\n",
    "$$\n",
    "\n",
    "Where $\\Theta_w$ is defined as :\n",
    "\n",
    "$$\n",
    "    \\Theta_w = \\left\\{ \\arctan_2 \\left( \\frac{y_v-y}{x_v-x} \\right) : (x_v,y_v) \\in V(M_w) \\right\\}\n",
    "$$\n",
    "\n",
    "To ensure that the robot is within the cone, we deine a margin $\\gamma \\in [0,0.5]$. Let $\\delta = \\theta_{max} - \\theta_{min}$, $\\hat \\theta_{max} = \\theta_{max} - \\gamma \\delta$ and $\\hat \\theta_{min} = \\theta_{min} + \\gamma \\delta$. So we can set the margin as :\n",
    "\n",
    "$$\n",
    "\\begin{aligned}\n",
    "    \\hat \\delta &= \\hat \\theta_{max} - \\hat \\theta_{min} \\\\\n",
    "                &= (1-2 \\gamma) \\delta\n",
    "\\end{aligned}\n",
    "$$"
   ]
  },
  {
   "cell_type": "code",
   "execution_count": 1,
   "metadata": {},
   "outputs": [],
   "source": [
    "coneMargin = 0.05\n",
    "\n",
    "def get_cone_angles_waypoint(pos_estimate, xb, yb):\n",
    "    \"\"\"_summary_\n",
    "    This function compute the range within which the robot should point before moving to the waypoint\n",
    "    with a margin\n",
    "    Args:\n",
    "        pos_estimate (1D np array with 2 variables): x,y position of the robot in mm\n",
    "        xb (float): x position of the waypoint\n",
    "        yb (float): y position of the waypoint\n",
    "        margin (float) : number between 0 and 1. (1-2*margin) corresponds to the coverage of the angle\n",
    "        theta_max - theta_min\n",
    "    \"\"\"\n",
    "    vertices = get_vertices_waypoint(xb, yb)\n",
    "    angles = []\n",
    "    for vertex in vertices:\n",
    "        delta = vertex - pos_estimate\n",
    "        angles.append(np.arctan2(delta[1], delta[0]))\n",
    "    angles = np.array(angles)\n",
    "    theta_max = np.max(angles)\n",
    "    theta_min = np.min(angles)\n",
    "    delta = theta_max - theta_min\n",
    "    return theta_max - coneMargin * delta, theta_min + coneMargin * delta\n",
    "\n",
    "def robot_align_waypoint(theta_estimate, theta_max, theta_min):\n",
    "    if theta_estimate < theta_max and theta_estimate > theta_min:\n",
    "        return True\n",
    "    else:\n",
    "        return False"
   ]
  },
  {
   "cell_type": "markdown",
   "metadata": {},
   "source": [
    "# Kalman filter\n",
    "\n",
    "\n",
    "The state vector $z_k \\in \\mathbb{R}^6$ is defined as so : $z_k = \\left( x_k,y_k,\\theta_k, \\dot x_k, \\dot y_k, \\dot \\theta_k \\right)^T$. The equation of evolution is the following :\n",
    "\n",
    "$$\n",
    "\\begin{aligned}\n",
    "    z_{k+1} = \\underbrace{\\begin{pmatrix} I_3 & T_s I_3\\\\ 0 & I_3 \\end{pmatrix}}_{A} &z_k + w \\\\ (s_c)_k = \\underbrace{\\begin{pmatrix}x_k\\\\y_k\\\\ \\theta_k\\\\\\dot x_k \\cos{\\theta_k} + \\dot y_k \\sin{\\theta_k} \\\\ L \\dot \\theta_k\\end{pmatrix}}_{g_c(z_k)} + v_c  \\quad &\\text{ou} \\quad (s_{nc})_k = \\underbrace{\\begin{pmatrix}\\dot x_k \\cos{\\theta_k} + \\dot y_k \\sin{\\theta_k} \\\\ L \\dot \\theta_k\\end{pmatrix}}_{g_{nc}(z_k)} + v_{nc}\n",
    "\\end{aligned}\n",
    "$$\n",
    "\n",
    "Where $w \\sim \\mathcal{N}(0,\\,W)$, $v_c \\sim \\mathcal{N}(0,\\,V_c)$, $v_{nc} \\sim \\mathcal{N}(0,\\,V_{nc})$ and $z_0 \\sim \\mathcal{N}(\\hat z_0,\\,\\Sigma_0)$ are all independant gaussian random vectors. "
   ]
  },
  {
   "cell_type": "code",
   "execution_count": null,
   "metadata": {},
   "outputs": [],
   "source": [
    "Ts = 1 #Define the sampling time before\n",
    "L = 1 #Define before\n",
    "\n",
    "W = np.identity(6)\n",
    "V_c = np.identity(5)\n",
    "V_nc = 20 # It is the same for V_theta and V_x_1\n",
    "\n",
    "A = np.array([[1, 0, 0, Ts, 0, 0],\n",
    "              [0, 1, 0, 0, Ts, 0],\n",
    "              [0, 0, 1, 0, 0, Ts],\n",
    "              [0, 0, 0, 1, 0, 0],\n",
    "              [0, 0, 0, 0, 1, 0],\n",
    "              [0, 0, 0, 0, 0, 1]])\n",
    "\n",
    "def g_c(z):\n",
    "    theta = z[2]\n",
    "    s_c=[z[0], # x\n",
    "        z[1], # y\n",
    "        z[2], # theta\n",
    "        z[3]*np.cos(theta) + z[4]*np.sin(theta), # x_dot*cos(theta) + y_dot*sin(theta)\n",
    "        L*z[5]] # L*theta_dot\n",
    "    return np.array(s_c)"
   ]
  },
  {
   "cell_type": "markdown",
   "metadata": {},
   "source": [
    "The Kalman filter has to be able to switch between two states :\n",
    "\n",
    "- Camera turned on 🎥 $\\Longrightarrow$ position + wheels speed measured ($s_c$)\n",
    "- Camera turned off 📏 $\\Longrightarrow$ wheels speed measured ($s_{nc}$)\n",
    "\n",
    "When the camera is turned off, it appears that the kalman filter works better to either reconstruct the translation or the rotation. Fortunately, the Thymio can only be in one of this two state. So we will further split the Kalman filter to the specific movements : $s_{nc} \\Longrightarrow s_{\\theta}, s_{x_1}$.\n",
    "\n",
    "### $\\theta$ dynamic\n",
    "\n",
    "In rotation, the studied system is a reduced version of the one above. The parameters related to the translation ($x,y \\dot x, \\dot y$) are fixed in this case. So we will keep the values of those four parameters as the one of the latest predicted state before entering this reduced system.\n",
    "\n",
    "$$\n",
    "\\begin{aligned}\n",
    "    z_{\\theta,k+1} = \\begin{pmatrix}\n",
    "        \\theta_k \\\\ \\dot \\theta_k\n",
    "    \\end{pmatrix} &= \\begin{pmatrix} 1 & T_s \\\\ 0 & 1 \\end{pmatrix} z_{\\theta,k} + w_{\\theta}\\\\\n",
    "    (s_{\\theta,nc})_k &= \\underbrace{\\begin{pmatrix}\n",
    "        0&L\n",
    "    \\end{pmatrix}}_{C_\\theta} z_{\\theta,k} + v_{\\theta,nc} \n",
    "\\end{aligned}\n",
    "$$\n",
    "\n",
    "Where $z_{\\theta}$, $w_{\\theta}$, $v_{\\theta}$ are the reduced vectors of $z$, $w$ and $v_{nc}$ coming from their scalar entries on $\\theta$ and $\\dot \\theta$."
   ]
  },
  {
   "cell_type": "code",
   "execution_count": null,
   "metadata": {},
   "outputs": [],
   "source": [
    "C_rot = np.array([[0, L]])"
   ]
  },
  {
   "cell_type": "markdown",
   "metadata": {},
   "source": [
    "We will see later that not much will change in the philosophy of the Kalman equations with this reduced formulation. Nonetheless, we shall pay attention that the covariance matrix has also a reduced form as so :\n",
    "\n",
    "$$\n",
    "\\Sigma_{\\theta} = \\begin{pmatrix}\n",
    "        \\Sigma_{\\theta,\\theta} & \\Sigma_{\\theta,\\dot \\theta}\\\\\n",
    "        \\Sigma_{\\dot \\theta,\\theta} & \\Sigma_{\\dot \\theta,\\dot \\theta}\\\\\n",
    "    \\end{pmatrix}\n",
    "$$\n",
    "\n",
    "Where $\\Sigma$ is the covariance matrix of $z$ and $\\Sigma_{\\theta}$ the one of $z_{\\theta}$. After the filtering step, we can put back the scalar entries of the reduced state vector and covariance matrix into the normal ones.\n",
    "\n",
    "### $x_1$ dynamic\n",
    "\n",
    "The reconstruction of the translation is more convolved. Looking at the quantities measured of the robot, it feels like that changing the coordinate system is better suited for this task as it will allow us to only reconstruct 2 variables. During translation, $\\dot R(\\theta) = 0$ so accoring to the change of basis, $\\dot X_1 = R(\\theta) \\dot X_0$ thus :\n",
    "\n",
    "$$    \n",
    "z_1 = \\begin{pmatrix}\n",
    "        x_1\\\\y_1\\\\\\theta\\\\\\dot x_1\\\\ \\dot y_1\\\\ \\dot \\theta\n",
    "    \\end{pmatrix} = \\underbrace{\\begin{pmatrix}\n",
    "  \\begin{matrix} R(\\theta) & \\begin{matrix} 0 \\\\ 0 \\end{matrix} \\\\ \\begin{matrix} 0 & 0 \\end{matrix} & 1 \\end{matrix} & \\text{\\huge 0} \\\\\n",
    "  \\text{\\huge 0} & \\begin{matrix} R(\\theta) & \\begin{matrix} 0 \\\\ 0 \\end{matrix} \\\\ \\begin{matrix} 0 & 0 \\end{matrix} & 1 \\end{matrix}\n",
    "\\end{pmatrix}}_{P_{1 \\rightarrow 0}} z\n",
    " $$\n",
    "\n",
    "Let's note that $P_{1 \\rightarrow 0}$ is an orthogonal matrix and that $z = P_{0 \\rightarrow 1} z_1 = P_{1 \\rightarrow 0}^T z_1$. During translation, $\\theta$ and $\\dot \\theta$ are fixed i.e. there are not random variables. So we can easily compute the covariance matrix of the random vector $z_1$ as so :\n",
    "\n",
    "$$\n",
    "\\Sigma_1 = P_{1 \\rightarrow 0} \\Sigma P_{0 \\rightarrow 1} \\Longleftrightarrow \\Sigma = P_{0 \\rightarrow 1} \\Sigma_1 P_{1 \\rightarrow 0}\n",
    "$$"
   ]
  },
  {
   "cell_type": "code",
   "execution_count": null,
   "metadata": {},
   "outputs": [],
   "source": [
    "def P_1_vers_0(theta):\n",
    "    R_theta = Rotation_theta(theta)\n",
    "    return np.block([[R_theta, np.zeros((2,4))],\n",
    "                        [0,0,1,0,0,0],\n",
    "                        [np.zeros((2,3)), R_theta, np.zeros((2,1))],\n",
    "                        [np.zeros((1,6))]])\n",
    "\n",
    "def P_0_vers_1(theta):\n",
    "    return P_1_vers_0(theta).T"
   ]
  },
  {
   "cell_type": "markdown",
   "metadata": {},
   "source": [
    "We can finally write the equations of the reduced system :\n",
    "\n",
    "$$\n",
    "\\begin{aligned}\n",
    "    z_{x_1,k+1} = \\begin{pmatrix}\n",
    "        x_1 \\\\ \\dot x_1\n",
    "    \\end{pmatrix} &= \\begin{pmatrix} 1 & T_s \\\\ 0 & 1 \\end{pmatrix} z_{x_1,k} + w_{x_1}\\\\\n",
    "    (s_{x_1,nc})_k &= \\underbrace{\\begin{pmatrix}\n",
    "        0&1\n",
    "    \\end{pmatrix}}_{C_{x_1}} z_{x_1,k} + v_{x_1,nc} \n",
    "\\end{aligned}\n",
    "$$"
   ]
  },
  {
   "cell_type": "code",
   "execution_count": 7,
   "metadata": {},
   "outputs": [],
   "source": [
    "C_trans = np.array([[0, 1]])"
   ]
  },
  {
   "cell_type": "markdown",
   "metadata": {},
   "source": [
    "And for the reduced covariance matrix :\n",
    "\n",
    "$$\n",
    "\\Sigma_{x_1} = \\begin{pmatrix}\n",
    "        (\\Sigma_1)_{x_1,x_1} & (\\Sigma_1)_{x_1,\\dot x_1}\\\\\n",
    "        (\\Sigma_1)_{\\dot x_1,x_1} & (\\Sigma_1)_{\\dot x_1,\\dot x_1}\n",
    "    \\end{pmatrix}\n",
    "$$\n",
    "\n",
    "Here again, the scalar entries of the reduced state vector and covariance matrix are put back into the main one and then $z$ is computed back :\n",
    "\n",
    "$$\n",
    "    z = P_{0 \\rightarrow 1} z_1\n",
    "$$\n",
    "\n",
    "We introduce a boolean *translation_or_rotation* that is set to **True** if the robot is translating and to **False** if it is turning. We can now write $g_{nc}$."
   ]
  },
  {
   "cell_type": "code",
   "execution_count": null,
   "metadata": {},
   "outputs": [],
   "source": [
    "def g_nc(z, translation_or_rotation):\n",
    "    if translation_or_rotation:\n",
    "        return C_trans@z\n",
    "    else:\n",
    "        return C_rot@z"
   ]
  },
  {
   "cell_type": "markdown",
   "metadata": {},
   "source": [
    "## Extended Kalman Filter 🤓\n",
    "\n",
    "We are going to build an extended Kalman filter since the system is not linear. Let ($z_{k \\mid k}, \\Sigma_{k \\mid k}$) the filtered state and ($z_{k+1 \\mid k}, \\Sigma_{k+1 \\mid k}$) the predicted state.\n",
    "\n",
    "First, let's compute the gradient of the deterministic function of the observed vectors :\n",
    "\n",
    "$$\n",
    "\\begin{aligned}\n",
    "    \\nabla_{z} g_c(z) &= \\begin{pmatrix}1&0&0&0&0&0\\\\\n",
    "    0&1&0&0&0&0\\\\ \n",
    "    0&0&1&0&0&0\\\\ \n",
    "    0&0& -\\dot x \\sin{\\theta} + \\dot y \\cos{\\theta}& \\cos{\\theta} & \\sin{\\theta}&0\\\\ 0&0&0&0&0&L\n",
    "    \\end{pmatrix} \\\\\n",
    "    \\nabla_{z} g_{nc}(z) &= \\left\\{ \\begin{aligned} &C_{\\theta} \\text{ If rotation}\\\\\n",
    "    &C_{x_1} \\text{ If translation}\n",
    "    \\end{aligned}\\right.\n",
    "\\end{aligned}\n",
    "$$"
   ]
  },
  {
   "cell_type": "code",
   "execution_count": null,
   "metadata": {},
   "outputs": [],
   "source": [
    "def grad_g_c(z):\n",
    "    theta = z[2]\n",
    "    x_dot, y_dot = z[3], z[4]\n",
    "    grad = [[1, 0, 0, 0, 0, 0],\n",
    "            [0, 1, 0, 0, 0, 0],\n",
    "            [0, 0, 1, 0, 0, 0],\n",
    "            [0, 0, -x_dot*np.sin(theta) + y_dot*np.cos(theta), np.cos(theta), np.sin(theta), 0],\n",
    "            [0, 0, 0, 0, 0, L]]\n",
    "    return np.array(grad)\n",
    "\n",
    "def grad_g_nc(z, translation_or_rotation):\n",
    "    if translation_or_rotation:\n",
    "        return C_trans\n",
    "    else:\n",
    "        return C_rot"
   ]
  },
  {
   "cell_type": "markdown",
   "metadata": {},
   "source": [
    "### Constructing the observed vector\n",
    "\n",
    "Based on the state of the camera and the measures flowing into the code, we need a function to build the observed vector $s$."
   ]
  },
  {
   "cell_type": "code",
   "execution_count": null,
   "metadata": {},
   "outputs": [],
   "source": [
    "def constructing_s(V_left_measure, V_right_measure, camera_working=False,\n",
    "                    x_measured=0, y_measured=0, theta_measured=0,                   \n",
    "                    translation_or_rotation=True):\n",
    "    if camera_working:\n",
    "        s_c = np.array([x_measured,y_measured, theta_measured,\n",
    "                        s_nc, (V_left_measure - V_right_measure)/2])\n",
    "        return s_c\n",
    "    elif translation_or_rotation:\n",
    "        s_nc = (V_left_measure + V_right_measure)/2 # Mesure translation\n",
    "    else:\n",
    "        s_nc = (V_left_measure - V_right_measure)/2 # Mesure rotation\n",
    "    return s_nc"
   ]
  },
  {
   "cell_type": "markdown",
   "metadata": {},
   "source": [
    "### Prediction step - Camera on\n",
    "\n",
    "\n",
    "$$\n",
    "\\begin{aligned}\n",
    "\\hat C_k &= \\nabla_{z} g_c(\\hat z_{k|k-1}) \\\\\n",
    "V &= V_c\\\\\n",
    "\n",
    "\\Sigma_{k|k} & = \\Sigma_{k|k-1}-\\Sigma_{k|k-1}\\hat{C}_{k}^{T}(\\hat{C}_{k}\\Sigma_{k|k-1} \\hat{C}_{k}^{T}+V)^{-1} \\hat{C}_{k} \\Sigma_{k|k-1} \\\\\n",
    "\n",
    "L_{k \\mid k} &= \\Sigma_{k \\mid k-1}\\hat{C}_{k}^{T}(\\hat{C}_{k}\\Sigma_{k|k-1}\\hat{C}_{k}^{T}+V)^{-1}\\\\\n",
    "    \n",
    "\\hat{z}_{k \\mid k} &= \\hat{z}_{k \\mid k-1}+L_{k \\mid k} \\left((s_{c})_{k}-g_c(\\hat{z}_{k \\mid k-1})\\right)\n",
    "\\end{aligned}\n",
    "$$\n",
    "\n",
    "### Prediction step - Camera off\n",
    "\n",
    "$$\n",
    "\\begin{aligned}\n",
    "\\hat C_k &= \\nabla_{z} g_{nc}(\\hat z_{k|k-1}) \\\\\n",
    "V &= \\left\\{\\begin{aligned}&V_{\\theta} \\text{ If rotation}\\\\ &V_{x_1} \\text{ If translation}\\end{aligned}\\right.\\\\\n",
    "\n",
    "\\Sigma_{k|k-1} &= \\left\\{\\begin{aligned}&\\Sigma_{k|k-1,\\theta} \\text{ If rotation}\\\\ &\\Sigma_{k|k-1,x_1} \\text{ If translation}\\end{aligned}\\right. \\\\\n",
    "\n",
    "(s_{nc})_{k} &= \\left\\{\\begin{aligned}& s_{\\theta,nc} \\text{ If rotation}\\\\ &s_{x_1,nc} \\text{ If translation}\\end{aligned}\\right. \\\\ \n",
    "\n",
    "(g_{nc})_{k} &= \\left\\{\\begin{aligned}& C_{\\theta} \\hat{z}_{\\theta, k \\mid k-1} \\text{ If rotation}\\\\ &C_{x_1} \\hat{z}_{x_1, k \\mid k-1} \\text{ If translation}\\end{aligned}\\right. \\\\ \n",
    "\n",
    "\n",
    "\\Sigma_{k|k} & = \\Sigma_{k|k-1}-\\Sigma_{k|k-1}\\hat{C}_{k}^{T}(\\hat{C}_{k}\\Sigma_{k|k-1} \\hat{C}_{k}^{T}+V)^{-1} \\hat{C}_{k} \\Sigma_{k|k-1} \\\\\n",
    "\n",
    "L_{k \\mid k} &= \\Sigma_{k \\mid k-1}\\hat{C}_{k}^{T}(\\hat{C}_{k}\\Sigma_{k|k-1}\\hat{C}_{k}^{T}+V)^{-1}\\\\\n",
    "    \n",
    "\\hat{z}_{k \\mid k} &= \\hat{z}_{k \\mid k-1}+L_{k \\mid k} \\left((s_{nc})_{k}-(g_{nc})_{k}\\right)\n",
    "\\end{aligned}\n",
    "$$\n",
    "\n",
    "And after the correct entire vector is reconstructed based on the reduced one."
   ]
  },
  {
   "cell_type": "code",
   "execution_count": null,
   "metadata": {},
   "outputs": [],
   "source": [
    "def filtering_step(z_k_k_1, sigma_k_k_1, V_left_measure, V_right_measure, \n",
    "                   camera_working=False, x_measured=0, y_measured=0,\n",
    "                    theta_measured=0, translation_or_rotation=True):\n",
    "    ### Computing the variables that are dependant on the state of the camera\n",
    "    s_k = constructing_s(V_left_measure, V_right_measure, camera_working,\n",
    "                          x_measured, y_measured, theta_measured, \n",
    "                          translation_or_rotation)\n",
    "    C_k = grad_g_c(z_k_k_1) if camera_working else grad_g_nc(z_k_k_1, translation_or_rotation)\n",
    "    V = V_c if camera_working else V_nc\n",
    "    # Changing the computation of the filter based on the state of the camera\n",
    "    ### The camera is on so all the states are reconstructed\n",
    "    if camera_working:\n",
    "        g_k = g_c(z_k_k_1)\n",
    "        ### The filtering step that can be rewritten without any problem\n",
    "        L_k_k = sigma_k_k_1@C_k.T@np.linalg.inv(C_k@sigma_k_k_1@C_k.T + V)\n",
    "        sigma_k_k = sigma_k_k_1 - L_k_k@C_k@sigma_k_k_1\n",
    "        z_k_k = z_k_k_1 + L_k_k@(s_k-g_k)\n",
    "\n",
    "    ### The thymio is translating so only the translation is reconstructed\n",
    "    elif translation_or_rotation:\n",
    "        ### Changing the frame of coordinates\n",
    "            theta = z_k_k_1[2]\n",
    "            z_1_k_k_1 = P_1_vers_0(theta) @ z_k_k_1\n",
    "            sigma_1_k_k_1 = P_1_vers_0(theta) @ sigma_k_k_1 @ P_0_vers_1(theta)\n",
    "\n",
    "            ### Creating a reduced state vector and covariance matrix\n",
    "            z_1_red_k_k_1 = np.array([z_1_k_k_1[0], z_1_k_k_1[3]])  # x1  & x1_dot\n",
    "            sigma_1_red_k_k_1 = np.array(\n",
    "                [\n",
    "                    [sigma_1_k_k_1[0, 0], sigma_1_k_k_1[0, 3]],\n",
    "                    [sigma_1_k_k_1[3, 0], sigma_1_k_k_1[3, 3]],\n",
    "                ]\n",
    "            )\n",
    "\n",
    "            g_k = g_nc(z_1_red_k_k_1, translation_or_rotation) \n",
    "\n",
    "            ### The filtering step can be computed for the reduced system\n",
    "            L_red_k_k = (\n",
    "                sigma_1_red_k_k_1\n",
    "                @ C_k.T\n",
    "                @ np.linalg.inv(C_k @ sigma_1_red_k_k_1 @ C_k.T + V)\n",
    "            )\n",
    "            sigma_1_red_k_k = sigma_1_red_k_k_1 - L_red_k_k @ C_k @ sigma_1_red_k_k_1\n",
    "            z_1_red_k_k = z_1_red_k_k_1 + L_red_k_k @ (s_k - g_k)\n",
    "\n",
    "            ### Putting back the reduced vector into the main one as well as the covariance matrix\n",
    "            z_1_k_k = z_1_k_k_1\n",
    "            z_1_k_k[0], z_1_k_k[3] = z_1_red_k_k[0], z_1_red_k_k[1]\n",
    "\n",
    "            sigma_1_k_k = sigma_1_k_k_1\n",
    "            sigma_1_k_k[0, 0], sigma_1_k_k[0, 3] = sigma_1_red_k_k[0, 0], sigma_1_red_k_k[0, 1]\n",
    "            sigma_1_k_k[3, 0], sigma_1_k_k[3, 3] = sigma_1_red_k_k[1, 0], sigma_1_red_k_k[1, 1]\n",
    "\n",
    "            ### Going back to the original frame\n",
    "            z_k_k = P_0_vers_1(theta) @ z_1_k_k\n",
    "            sigma_k_k = P_0_vers_1(theta) @ sigma_1_k_k @ P_1_vers_0(theta)\n",
    "\n",
    "    ### The thyimio is turning so only the rotation is recontructed\n",
    "    else:\n",
    "        ### Extracting theta and theta_dot\n",
    "        z_red_k_k_1 = np.array([z_k_k_1[2],\n",
    "                                z_k_k_1[5]])\n",
    "        \n",
    "        sigma_red_k_k_1 = np.array([[sigma_k_k_1[2,2], sigma_k_k_1[2,5]],\n",
    "                                    [sigma_k_k_1[5,2], sigma_k_k_1[5,5]]])\n",
    "        \n",
    "        g_k = g_nc(z_red_k_k_1, translation_or_rotation)\n",
    "        ### The filtering step can be computed for the reduced system\n",
    "        L_red_k_k = sigma_red_k_k_1@C_k.T@np.linalg.inv(C_k@sigma_red_k_k_1@C_k.T + V)\n",
    "        sigma_red_k_k = sigma_red_k_k_1 - L_red_k_k@C_k@sigma_red_k_k_1\n",
    "        z_red_k_k = z_red_k_k_1 + L_red_k_k@(s_k-g_k)\n",
    "\n",
    "        z_k_k = z_k_k_1\n",
    "        z_k_k[2], z_k_k[5] = z_red_k_k[0], z_red_k_k[1]\n",
    "\n",
    "        sigma_k_k = sigma_k_k_1\n",
    "        sigma_k_k[2,2], sigma_k_k[2,5] = sigma_red_k_k[0,0], sigma_red_k_k[0,1]\n",
    "        sigma_k_k[5,2], sigma_k_k[5,5] = sigma_red_k_k[1,0], sigma_red_k_k[1,1]\n",
    "        \n",
    "\n",
    "    return z_k_k, sigma_k_k"
   ]
  },
  {
   "cell_type": "markdown",
   "metadata": {},
   "source": [
    "### Prediction step\n",
    "\n",
    "The filtering step is unchanged in all cases. It is straighforward to write it down : \n",
    "\n",
    "$$\n",
    "\\begin{aligned}\n",
    "    \\hat z_{k+1|k} &= A \\hat z_{k|k}\\\\\n",
    "    \\Sigma_{k+1|k} &= A \\Sigma_{k|k} A^T + W\n",
    "\\end{aligned}\n",
    "$$"
   ]
  },
  {
   "cell_type": "code",
   "execution_count": null,
   "metadata": {},
   "outputs": [],
   "source": [
    "def prediction_step(z_k_k, sigma_k_k):\n",
    "    z_k_1_k = A@z_k_k\n",
    "    sigma_k_1_k = A@sigma_k_k@A.T + W\n",
    "    return z_k_1_k, sigma_k_1_k"
   ]
  },
  {
   "cell_type": "markdown",
   "metadata": {},
   "source": [
    "### Simulating the Kalman filter"
   ]
  },
  {
   "cell_type": "markdown",
   "metadata": {},
   "source": [
    "# Running the project ?"
   ]
  },
  {
   "cell_type": "markdown",
   "metadata": {},
   "source": [
    "# Conclusion"
   ]
  }
 ],
 "metadata": {
  "kernelspec": {
   "display_name": "Python 3",
   "language": "python",
   "name": "python3"
  },
  "language_info": {
   "codemirror_mode": {
    "name": "ipython",
    "version": 3
   },
   "file_extension": ".py",
   "mimetype": "text/x-python",
   "name": "python",
   "nbconvert_exporter": "python",
   "pygments_lexer": "ipython3",
   "version": "3.8.10"
  }
 },
 "nbformat": 4,
 "nbformat_minor": 2
}
